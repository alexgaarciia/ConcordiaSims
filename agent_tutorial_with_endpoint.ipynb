{
 "cells": [
  {
   "cell_type": "markdown",
   "metadata": {
    "id": "zWgEkOAO9OVz"
   },
   "source": [
    "# Agents in Concordia\n"
   ]
  },
  {
   "cell_type": "markdown",
   "metadata": {
    "id": "TCrPnXpVpaoy"
   },
   "source": [
    "This tutorial walks you through how to simulate an agent with Concordia."
   ]
  },
  {
   "cell_type": "markdown",
   "metadata": {
    "id": "J2TwJrZ08wXz"
   },
   "source": [
    "# Init and import\n",
    " Let's start by creating a few cells containing all the things we need to initialise/import etc."
   ]
  },
  {
   "cell_type": "code",
   "execution_count": 23,
   "metadata": {
    "id": "NXAjT5XO2IQc"
   },
   "outputs": [],
   "source": [
    "import datetime\n",
    "import numpy as np\n",
    "import sentence_transformers\n",
    "\n",
    "from IPython import display\n",
    "from concordia import typing\n",
    "from concordia.agents import basic_agent\n",
    "from concordia import components as generic_components\n",
    "from concordia.components.agent import to_be_deprecated as agent_components\n",
    "from concordia.associative_memory import associative_memory\n",
    "from concordia.associative_memory import blank_memories\n",
    "from concordia.associative_memory import formative_memories\n",
    "from concordia.associative_memory import importance_function\n",
    "from concordia.language_model import gpt_model\n",
    "from concordia.clocks import game_clock\n",
    "from concordia.environment import game_master"
   ]
  },
  {
   "cell_type": "code",
   "execution_count": 24,
   "metadata": {
    "id": "cugwvFIKv5AS"
   },
   "outputs": [],
   "source": [
    "GPT_API_KEY = 'lm-studio' #@param {type: 'string'}\n",
    "GPT_MODEL_NAME = 'TheBloke/Mistral-7B-Instruct-v0.2-GGUF' #@param {type: 'string'}\n",
    "\n",
    "if not GPT_API_KEY:\n",
    "  raise ValueError('GPT_API_KEY is required.')\n",
    "\n",
    "model = gpt_model.GptLanguageModel(api_key=GPT_API_KEY,\n",
    "                                   model_name=GPT_MODEL_NAME)"
   ]
  },
  {
   "cell_type": "code",
   "execution_count": 25,
   "metadata": {
    "id": "mEOT5sgA3Q1H",
    "scrolled": true
   },
   "outputs": [
    {
     "name": "stderr",
     "output_type": "stream",
     "text": [
      "c:\\Users\\algar\\AppData\\Local\\Programs\\Python\\Python312\\Lib\\site-packages\\transformers\\tokenization_utils_base.py:1601: FutureWarning: `clean_up_tokenization_spaces` was not set. It will be set to `True` by default. This behavior will be depracted in transformers v4.45, and will be then set to `False` by default. For more details check this issue: https://github.com/huggingface/transformers/issues/31884\n",
      "  warnings.warn(\n"
     ]
    }
   ],
   "source": [
    "# @title The memory will use a sentence embedder for retrievel, so we download one from Hugging Face.\n",
    "_embedder_model = sentence_transformers.SentenceTransformer('sentence-transformers/all-mpnet-base-v2')\n",
    "embedder = lambda x: _embedder_model.encode(x, show_progress_bar=False)"
   ]
  },
  {
   "cell_type": "markdown",
   "metadata": {
    "id": "B6WFuGfinCXQ"
   },
   "source": [
    "# Building a basic agent\n",
    "\n",
    " Now we can start configuring the agent! To start, we'll set up an agent and show that we can have a conversation with it."
   ]
  },
  {
   "cell_type": "markdown",
   "metadata": {
    "id": "t5zdF6mpoVk2"
   },
   "source": [
    "Let's start by making the clock:"
   ]
  },
  {
   "cell_type": "code",
   "execution_count": 26,
   "metadata": {
    "id": "TeVYseoD2WYa"
   },
   "outputs": [],
   "source": [
    "#@title Make the clock\n",
    "\n",
    "START_TIME = datetime.datetime(hour=20, year=2024, month=10, day=1)\n",
    "\n",
    "MAJOR_TIME_STEP = datetime.timedelta(minutes=30)\n",
    "MINOR_TIME_STEP = datetime.timedelta(seconds=10)\n",
    "\n",
    "clock = game_clock.MultiIntervalClock(\n",
    "    start=START_TIME,\n",
    "    step_sizes=[MAJOR_TIME_STEP, MINOR_TIME_STEP])\n",
    "\n",
    "#@markdown Here we've set the simulation start date/time to October 1st 2024 at 8:00pm, and the major time interval between steps to 30 minutes. We also set a minor time interval of 10 seconds for conversation rounds within a timestep."
   ]
  },
  {
   "cell_type": "markdown",
   "metadata": {
    "id": "XrQlUwYtoynV"
   },
   "source": [
    "Now let's configure the agent's memory."
   ]
  },
  {
   "cell_type": "code",
   "execution_count": 27,
   "metadata": {
    "id": "DVCGZ9QzPUpP"
   },
   "outputs": [],
   "source": [
    "#@title Agent memory\n",
    "\n",
    "#@markdown This instantiates an associative memory. It works similarly to the memory system described in [Park et al. (2023) Generative Agents](https://arxiv.org/abs/2304.03442).\n",
    "agent_memory = associative_memory.AssociativeMemory(\n",
    "    sentence_embedder=embedder,\n",
    "    clock=clock.now,\n",
    ")"
   ]
  },
  {
   "cell_type": "markdown",
   "metadata": {
    "id": "Egu-BBSh_F57"
   },
   "source": [
    "Now we can play around with writing out some memories for our agent!\n",
    "\n",
    "We'll name her Alice.\n"
   ]
  },
  {
   "cell_type": "markdown",
   "metadata": {
    "id": "_vjswTFn-ZwR"
   },
   "source": [
    "### Creating some memories\n",
    "\n",
    "We can add the memories by calling the function `agent_memory.add()`. In this function we can add a specific memory string, as well as timestamp that memory for our agent.\n",
    "\n",
    "Here we write three memories, each set two hours apart, outlining a bit of a crappy morning for Alice."
   ]
  },
  {
   "cell_type": "code",
   "execution_count": 28,
   "metadata": {
    "id": "9IKvWQCwoadJ"
   },
   "outputs": [
    {
     "name": "stderr",
     "output_type": "stream",
     "text": [
      "c:\\Users\\algar\\Documents\\Travail\\GitHub\\ConcordiaSims\\concordia\\associative_memory\\associative_memory.py:128: FutureWarning: The behavior of DataFrame concatenation with empty or all-NA entries is deprecated. In a future version, this will no longer exclude empty or all-NA columns when determining the result dtypes. To retain the old behavior, exclude the relevant entries before the concat operation.\n",
      "  self._memory_bank = pd.concat(\n"
     ]
    }
   ],
   "source": [
    "time_alice_wakes_up = START_TIME - datetime.timedelta(hours=12)\n",
    "agent_memory.add(\n",
    "    text=(\n",
    "        'Alice wakes up two hours past her morning alarm after a long night '\n",
    "        'of being plagued by nightmares. She is late for work.'\n",
    "    ),\n",
    "    timestamp=time_alice_wakes_up,\n",
    ")\n",
    "time_alice_misses_bus = START_TIME - datetime.timedelta(hours=10)\n",
    "agent_memory.add(\n",
    "    text='Alice misses the bus and decides to walk to work.',\n",
    "    timestamp=time_alice_misses_bus,\n",
    ")\n",
    "time_alice_arrives_at_office = START_TIME - datetime.timedelta(hours=8)\n",
    "agent_memory.add(\n",
    "    text=(\n",
    "        'Alice arrives at her office and finds it closed because it\\'s '\n",
    "        'Saturday and her office isn\\'t open over the weekends.'\n",
    "    ),\n",
    "    timestamp=time_alice_arrives_at_office,\n",
    ")"
   ]
  },
  {
   "cell_type": "markdown",
   "metadata": {
    "id": "QfQOENftAMIP"
   },
   "source": [
    "Let's make Alice recall these memories in her **context of action**. For every action an agent takes, they're given this context and asked, `*based on the context provided about the character, how are they likely to respond?*'.\n",
    "\n",
    "We'll accomplish this by creating a `component`.\n",
    "\n",
    "A component retrieves items from associative memory and formats or summarizes them in a way that makes them useful as context, either for another component or for action selection.\n",
    "\n",
    "In Concordia, contexts are composed of components."
   ]
  },
  {
   "cell_type": "markdown",
   "metadata": {
    "id": "RJD3--0OAeAc"
   },
   "source": [
    "### Creating a simple component\n",
    "\n",
    "We're going to build a simple custom component that just retrieves all the memories in our agent's memory bank, concatenates them, and returns them as a string into the context of action.\n",
    "\n",
    "To do this we'll start by writing a class called `Memories`."
   ]
  },
  {
   "cell_type": "code",
   "execution_count": 29,
   "metadata": {
    "id": "cxnNFRyeUNg3"
   },
   "outputs": [],
   "source": [
    "#@markdown As you can see, all that this class does is take everything in an agent's memory (for us, our list of written memories about Alice's crappy day), concatenate it all together, and return it as a string.\n",
    "\n",
    "class Memories(typing.component.Component):\n",
    "  \"\"\"Component that displays recently written memories.\"\"\"\n",
    "\n",
    "  def __init__(\n",
    "      self,\n",
    "      memory: associative_memory.AssociativeMemory,\n",
    "      component_name: str = 'memories',\n",
    "  ):\n",
    "    \"\"\"Initializes the component.\n",
    "\n",
    "    Args:\n",
    "      memory: Associative memory to add and retrieve observations.\n",
    "      component_name: Name of this component.\n",
    "    \"\"\"\n",
    "    self._name = component_name\n",
    "    self._memory = memory\n",
    "\n",
    "  def name(self) -> str:\n",
    "    return self._name\n",
    "\n",
    "  def state(self):\n",
    "    # Retrieve up to 1000 of the latest memories.\n",
    "    memories = self._memory.retrieve_recent(k=1000, add_time=True)\n",
    "    # Concatenate all retrieved memories into a single string and put newline\n",
    "    # characters (\"\\n\") between each memory.\n",
    "    return '\\n'.join(memories) + '\\n'\n",
    "\n",
    "  def get_last_log(self):\n",
    "    return {\n",
    "        'Summary': 'observation',\n",
    "        'state': self.state().splitlines(),\n",
    "    }"
   ]
  },
  {
   "cell_type": "markdown",
   "metadata": {
    "id": "T3wROu1nBdIE"
   },
   "source": [
    "Next we'll create the component and name it `memories`. An important thing to keep in mind is that component names are not really arbitrary. They will get printed in context used to prompt an LLM. So it's important to pick names that don't leak information about the research study to the LLM. It's always a good idea to read your LLM prompts carefully, especially with a framework like Concordia which composes prompts  dynamically."
   ]
  },
  {
   "cell_type": "code",
   "execution_count": 30,
   "metadata": {
    "id": "jT0AxPPTVCeQ"
   },
   "outputs": [],
   "source": [
    "memory_concatenation_component = Memories(\n",
    "    memory=agent_memory,\n",
    "    component_name='memories'\n",
    ")"
   ]
  },
  {
   "cell_type": "markdown",
   "metadata": {
    "id": "37_3W52nBlfs"
   },
   "source": [
    "Now with all this set up, let's build the agent:"
   ]
  },
  {
   "cell_type": "markdown",
   "metadata": {
    "id": "E7MDtml5EJ7Z"
   },
   "source": [
    "## Building the agent"
   ]
  },
  {
   "cell_type": "code",
   "execution_count": 31,
   "metadata": {
    "id": "qbJ7FVVOST6V"
   },
   "outputs": [],
   "source": [
    "agent = basic_agent.BasicAgent(\n",
    "      model,\n",
    "      agent_name='Alice',\n",
    "      clock=clock,\n",
    "      verbose=True,\n",
    "      components=[memory_concatenation_component],\n",
    "      update_interval=MAJOR_TIME_STEP\n",
    "  )"
   ]
  },
  {
   "cell_type": "markdown",
   "metadata": {
    "id": "h805elqMBy-a"
   },
   "source": [
    "And we've just built a basic agent!\n",
    "\n",
    "Great!\n",
    "\n",
    "Now let's try to chat with her."
   ]
  },
  {
   "cell_type": "markdown",
   "metadata": {
    "id": "FA5RHgQbqObq"
   },
   "source": [
    "## Talking to the agent\n",
    "\n",
    "We can try talking with Alice by passing text through the `agent.say()` function. Let's ask Alice how her day has been. We'll take the name Bob for ourselves so Alice knows who she is talking to."
   ]
  },
  {
   "cell_type": "code",
   "execution_count": 32,
   "metadata": {
    "id": "rhN4kx3ISmTR"
   },
   "outputs": [
    {
     "name": "stdout",
     "output_type": "stream",
     "text": [
      "\u001b[32m\n",
      "Alice context of action:\n",
      "Alice's memories:\n",
      "[01 Oct 2024 08:00:00] Alice wakes up two hours past her morning alarm after a long night of being plagued by nightmares. She is late for work.\n",
      "[01 Oct 2024 10:00:00] Alice misses the bus and decides to walk to work.\n",
      "[01 Oct 2024 12:00:00] Alice arrives at her office and finds it closed because it's Saturday and her office isn't open over the weekends.\n",
      "\n",
      "\n",
      "Question: Alice is in the following conversation:\n",
      "Bob -- \"Hey Alice, how has your day been so far?\"\n",
      "Given the above, what is Alice likely to say next? Respond in the format `Alice -- \"...\"` For example, Cristina -- \"Hello! Mighty fine weather today, right?\", Ichabod -- \"I wonder if the alfalfa is ready to harvest\", or Townsfolk -- \"Good morning\".\n",
      "\n",
      "Answer: Alice -- \"Oh, it's been quite a day. I overslept and missed my bus, then I got to the office only to find out it was closed on Saturdays.\"\n",
      "\n",
      "\u001b[0mAlice -- \"Oh, it's been quite a day. I overslept and missed my bus, then I got to the office only to find out it was closed on Saturdays.\"\n"
     ]
    }
   ],
   "source": [
    "utterence_from_bob = 'Bob -- \"Hey Alice, how has your day been so far?\"'\n",
    "alice_replies = agent.say(utterence_from_bob)\n",
    "print(alice_replies)"
   ]
  },
  {
   "cell_type": "markdown",
   "metadata": {
    "id": "pJvIn4aQEprR"
   },
   "source": [
    "When you run this notebook (Runtime > Run all), your output will look like the following:\n",
    "\n",
    "```\n",
    "...\n",
    "Given the above, what is Alice likely to say next? Respond in the format `Alice -- \"...\"` For example, Cristina -- \"Hello!\n",
    "Mighty fine weather today, right?\", Ichabod -- \"I wonder if the alfalfa is ready to harvest\", or Townsfolk -- \"Good morning\".\n",
    "\n",
    "Answer: ...\n",
    "```\n",
    "\n",
    "\n",
    "In the block of text, everything up through the word \"Answer: \" on the last line was the context the LLM was given to condition its answer. The words appearing beyond this point are autoregressive samples from the LLM.\n",
    "\n",
    "For any text we pass through the `say()` function (e.g. `*Hey Alice, how has your day been so far?*`), we're asking the LLM to respond with **what the character (Alice in this case) is likely to say in response given this context of action**."
   ]
  },
  {
   "cell_type": "markdown",
   "metadata": {
    "id": "9R5O02zPH6cN"
   },
   "source": [
    "# Building a more interesting agent\n",
    "\n",
    "We'll need more than just memories of one day if we want our agent to represent a fully fleshed out character.  We'll want them to have a lifetime of memories and experiences that make up who they are and reasonably influence how they'd behave in a given scenario. But a lifetime of memories would make the memory component we used so far grow rather long, wouldn't it?"
   ]
  },
  {
   "cell_type": "markdown",
   "metadata": {
    "id": "BAvZbaAYHffQ"
   },
   "source": [
    "## Generating formative memories\n",
    "\n",
    "Along with a **library of prewritten components** that recall and summarise memories in a variety of different ways, Concordia also provides a factory for generating **formative memories** for a Concordia agent that have taken place across their life. It has a bunch of toggles so if you want you can specify what kind of traits you want them to have, or add specific memories, or even define their birthday, and the factory will flesh out the rest so that the memories it generates are consistent with those specifications.\n",
    "\n",
    "Let's walk through how to create formative memories for an agent using the `FormativeMemoryFactory`. First we need to create a `player_config`."
   ]
  },
  {
   "cell_type": "code",
   "execution_count": 33,
   "metadata": {
    "id": "3pNmvZ3j6IXm"
   },
   "outputs": [],
   "source": [
    "#@markdown Under `traits` we can determine what kind of personality traits we want our agent to have. The memory factory will take these words and generate formative memories a person with the specified personality may have had. Here we've given her the traits *'playful, resilient, positive'* to make her a fairly optimistic person. This approach just creates formative memories for a person with the specified traits. The traits themselves are discarded after the memory creation process, so her behavior going forward will only be conditioned on her memories. The traits we provided only exert influence on behavior via their effect on the memories we generate in this initial step.\n",
    "agent_config = formative_memories.AgentConfig(\n",
    "    name='Alice',\n",
    "    gender='female',\n",
    "    traits = 'playful, resilient, positive'\n",
    ")"
   ]
  },
  {
   "cell_type": "markdown",
   "metadata": {
    "id": "V9IA_3jRJIpU"
   },
   "source": [
    "Now let's populate Alice's memory."
   ]
  },
  {
   "cell_type": "code",
   "execution_count": 34,
   "metadata": {
    "id": "6_1wY8Ifj_k2"
   },
   "outputs": [
    {
     "name": "stderr",
     "output_type": "stream",
     "text": [
      "Number of generated formative episodes (15) does not match number of formative ages (7).\n",
      "c:\\Users\\algar\\Documents\\Travail\\GitHub\\ConcordiaSims\\concordia\\associative_memory\\associative_memory.py:128: FutureWarning: The behavior of DataFrame concatenation with empty or all-NA entries is deprecated. In a future version, this will no longer exclude empty or all-NA columns when determining the result dtypes. To retain the old behavior, exclude the relevant entries before the concat operation.\n",
      "  self._memory_bank = pd.concat(\n"
     ]
    }
   ],
   "source": [
    "# First we create a new clock.\n",
    "clock = game_clock.MultiIntervalClock(\n",
    "    start=START_TIME,\n",
    "    step_sizes=[MAJOR_TIME_STEP, MINOR_TIME_STEP],\n",
    ")\n",
    "clock.set(START_TIME)\n",
    "\n",
    "# Next we create two memory factories: first a blank memory factory, we just\n",
    "# use this as a convenient way to collect the model, embedder, and clock\n",
    "# settings together in a way so that we can use them to make a new memory\n",
    "# object.\n",
    "blank_memory_factory = blank_memories.MemoryFactory(\n",
    "    model=model,\n",
    "    embedder=embedder,\n",
    "    clock_now=clock.now,\n",
    ")\n",
    "\n",
    "# The second memory factory we create is a formative memories factory. This\n",
    "# factory is the object we will use with the agent config to incorporate the\n",
    "# agent's traits. It will create formative experiences in the agent's life,\n",
    "# consistent with them being the kind of person who would have the specified\n",
    "# traits.\n",
    "formative_memory_factory = formative_memories.FormativeMemoryFactory(\n",
    "    model=model,\n",
    "    blank_memory_factory_call=blank_memory_factory.make_blank_memory,\n",
    ")\n",
    "# The next line is the one that actually generates the memories.\n",
    "alice_memory = formative_memory_factory.make_memories(agent_config)"
   ]
  },
  {
   "cell_type": "markdown",
   "metadata": {
    "id": "oRNwb424JQUy"
   },
   "source": [
    "## Using components from the Concordia library\n",
    "\n",
    "Since we're rebuilding the agent, let's take the opportunity to go ahead and add a couple of pre-written components from the **Concordia components library**."
   ]
  },
  {
   "cell_type": "code",
   "execution_count": 35,
   "metadata": {
    "id": "jX4Casz20WHh"
   },
   "outputs": [],
   "source": [
    "#@title The `instructions` component\n",
    "\n",
    "#@markdown The `instructions` component may not be strictly necessary for all LLMs, but it does help in many cases. It's standard practice to use it. It explicitly tells the LLM that its task is to role play as Alice.\n",
    "instructions = generic_components.constant.ConstantComponent(\n",
    "    state=(\n",
    "        f'The instructions for how to play the role of {agent_config.name} are '\n",
    "        'as follows. This is a social science experiment studying how well you '\n",
    "        f'play the role of a character named {agent_config.name}. The '\n",
    "        'experiment is structured as a tabletop roleplaying game (like '\n",
    "        'dungeons and dragons). However, in this case it is a serious social '\n",
    "        'science experiment and simulation. The goal is to be realistic. It is '\n",
    "        f'important to play the role of a person like {agent_config.name} as '\n",
    "        f'accurately as possible, i.e., by responding in ways that you think '\n",
    "        f'it is likely a person like {agent_config.name} would respond, and '\n",
    "        f'taking into account all information about {agent_config.name} that '\n",
    "        'you have. Always use third-person limited perspective.'\n",
    "    ),\n",
    "    name='role playing instructions\\n',\n",
    ")"
   ]
  },
  {
   "cell_type": "code",
   "execution_count": 36,
   "metadata": {
    "id": "WzrlwGUQ0qnP"
   },
   "outputs": [],
   "source": [
    "#@title A component to answer ``what kind of person is Alice?''\n",
    "\n",
    "#@markdown Using Alice's memories, a SelfPerception component answers the question ``what kind of person is Alice?''.\n",
    "identity = agent_components.self_perception.SelfPerception(\n",
    "    name=f'answer to what kind of person is {agent_config.name}',\n",
    "    model=model,\n",
    "    memory=alice_memory,\n",
    "    agent_name=agent_config.name,\n",
    "    clock_now=clock.now,\n",
    ")"
   ]
  },
  {
   "cell_type": "code",
   "execution_count": 37,
   "metadata": {
    "id": "0rYD2sNN04Gg"
   },
   "outputs": [],
   "source": [
    "#@title The `observation` component\n",
    "\n",
    "#@markdown The `observation` component displays observations/memories from a given timeframe. It is typically used to display the agent's latest memories, like those from the most recent timestep. This is how we use it here since we set `timeframe=clock.get_step_size()`.\n",
    "observation = agent_components.observation.Observation(\n",
    "    agent_name=agent_config.name,\n",
    "    clock_now=clock.now,\n",
    "    timeframe=clock.get_step_size(),\n",
    "    memory=alice_memory,\n",
    ")"
   ]
  },
  {
   "cell_type": "code",
   "execution_count": 38,
   "metadata": {
    "id": "qL96MsOdt_ZI"
   },
   "outputs": [],
   "source": [
    "#@title The `all_similar_memories` component (filters recent memory by relevance)\n",
    "\n",
    "#@markdown The `relevant_memories` component displays the memories that are relevant to the output of the components passed in to it as subcomponent. In this case, we use the observation component as the context to determine what is relevant.\n",
    "relevant_memories = agent_components.all_similar_memories.AllSimilarMemories(\n",
    "    name='relevant memories',\n",
    "    model=model,\n",
    "    memory=alice_memory,\n",
    "    agent_name=agent_config.name,\n",
    "    components=[observation],\n",
    "    clock_now=clock.now,\n",
    "    num_memories_to_retrieve=20,\n",
    ")\n"
   ]
  },
  {
   "cell_type": "markdown",
   "metadata": {
    "id": "dor3RfhpLK5k"
   },
   "source": [
    "## Putting everything together\n",
    "\n",
    "Now let's rebuild our agent replacing the agents memory and components with the new ones we've just built."
   ]
  },
  {
   "cell_type": "code",
   "execution_count": 39,
   "metadata": {
    "id": "SilMQL6okhow"
   },
   "outputs": [],
   "source": [
    "#@title Build the agent using components\n",
    "agent = basic_agent.BasicAgent(\n",
    "    model=model,\n",
    "    agent_name=agent_config.name,\n",
    "    clock=clock,\n",
    "    verbose=True,\n",
    "    components=[\n",
    "        instructions,\n",
    "        identity,\n",
    "        observation,\n",
    "        relevant_memories,\n",
    "    ],\n",
    "    update_interval=MAJOR_TIME_STEP,\n",
    ")\n"
   ]
  },
  {
   "cell_type": "markdown",
   "metadata": {
    "id": "QnIi0yx4KmhP"
   },
   "source": [
    "Let's take a look at Alice's current memory bank, made up of the formative memories we generated earlier."
   ]
  },
  {
   "cell_type": "code",
   "execution_count": 40,
   "metadata": {
    "id": "YCyZkhQbnoYn"
   },
   "outputs": [
    {
     "data": {
      "text/html": [
       "<div>\n",
       "<style scoped>\n",
       "    .dataframe tbody tr th:only-of-type {\n",
       "        vertical-align: middle;\n",
       "    }\n",
       "\n",
       "    .dataframe tbody tr th {\n",
       "        vertical-align: top;\n",
       "    }\n",
       "\n",
       "    .dataframe thead th {\n",
       "        text-align: right;\n",
       "    }\n",
       "</style>\n",
       "<table border=\"1\" class=\"dataframe\">\n",
       "  <thead>\n",
       "    <tr style=\"text-align: right;\">\n",
       "      <th></th>\n",
       "      <th>text</th>\n",
       "      <th>time</th>\n",
       "      <th>tags</th>\n",
       "      <th>embedding</th>\n",
       "      <th>importance</th>\n",
       "    </tr>\n",
       "  </thead>\n",
       "  <tbody>\n",
       "    <tr>\n",
       "      <th>0</th>\n",
       "      <td></td>\n",
       "      <td>1990-07-03 00:00:00</td>\n",
       "      <td>(episode,)</td>\n",
       "      <td>[-0.012503398, 0.061438806, -0.006734489, 0.02...</td>\n",
       "      <td>1.0</td>\n",
       "    </tr>\n",
       "    <tr>\n",
       "      <th>1</th>\n",
       "      <td>When Alice was 6 years old:</td>\n",
       "      <td>1993-07-03 00:00:00</td>\n",
       "      <td>(episode,)</td>\n",
       "      <td>[0.049888253, -0.01736921, -0.01318165, 0.0374...</td>\n",
       "      <td>1.0</td>\n",
       "    </tr>\n",
       "    <tr>\n",
       "      <th>2</th>\n",
       "      <td>Alice discovered her love for art during a ra...</td>\n",
       "      <td>1997-07-03 00:00:00</td>\n",
       "      <td>(episode,)</td>\n",
       "      <td>[0.020498853, 0.013523705, -0.041570596, 0.044...</td>\n",
       "      <td>1.0</td>\n",
       "    </tr>\n",
       "    <tr>\n",
       "      <th>3</th>\n",
       "      <td>When Alice was 9 years old:</td>\n",
       "      <td>2000-07-03 00:00:00</td>\n",
       "      <td>(episode,)</td>\n",
       "      <td>[0.0029901543, -0.0155598745, -0.0031258003, 0...</td>\n",
       "      <td>1.0</td>\n",
       "    </tr>\n",
       "    <tr>\n",
       "      <th>4</th>\n",
       "      <td>Alice's family took a camping trip in the sum...</td>\n",
       "      <td>2003-07-03 00:00:00</td>\n",
       "      <td>(episode,)</td>\n",
       "      <td>[-0.0011716468, 0.0040183263, -0.03896584, 0.0...</td>\n",
       "      <td>1.0</td>\n",
       "    </tr>\n",
       "    <tr>\n",
       "      <th>5</th>\n",
       "      <td>When Alice was 13 years old:</td>\n",
       "      <td>2005-07-03 00:00:00</td>\n",
       "      <td>(episode,)</td>\n",
       "      <td>[0.02864887, -0.027840555, 0.0022193075, 0.024...</td>\n",
       "      <td>1.0</td>\n",
       "    </tr>\n",
       "    <tr>\n",
       "      <th>6</th>\n",
       "      <td>Alice's older brother introduced her to graph...</td>\n",
       "      <td>2007-07-03 00:00:00</td>\n",
       "      <td>(episode,)</td>\n",
       "      <td>[0.019953439, -0.01759453, -0.030092502, 0.017...</td>\n",
       "      <td>1.0</td>\n",
       "    </tr>\n",
       "    <tr>\n",
       "      <th>7</th>\n",
       "      <td>[self reflection] Alice is a creative and arti...</td>\n",
       "      <td>2024-10-01 20:00:00</td>\n",
       "      <td>()</td>\n",
       "      <td>[0.050858058, -0.002875986, -0.027414525, 0.02...</td>\n",
       "      <td>1.0</td>\n",
       "    </tr>\n",
       "  </tbody>\n",
       "</table>\n",
       "</div>"
      ],
      "text/plain": [
       "                                                text                time  \\\n",
       "0                                                    1990-07-03 00:00:00   \n",
       "1                        When Alice was 6 years old: 1993-07-03 00:00:00   \n",
       "2   Alice discovered her love for art during a ra... 1997-07-03 00:00:00   \n",
       "3                        When Alice was 9 years old: 2000-07-03 00:00:00   \n",
       "4   Alice's family took a camping trip in the sum... 2003-07-03 00:00:00   \n",
       "5                       When Alice was 13 years old: 2005-07-03 00:00:00   \n",
       "6   Alice's older brother introduced her to graph... 2007-07-03 00:00:00   \n",
       "7  [self reflection] Alice is a creative and arti... 2024-10-01 20:00:00   \n",
       "\n",
       "         tags                                          embedding  importance  \n",
       "0  (episode,)  [-0.012503398, 0.061438806, -0.006734489, 0.02...         1.0  \n",
       "1  (episode,)  [0.049888253, -0.01736921, -0.01318165, 0.0374...         1.0  \n",
       "2  (episode,)  [0.020498853, 0.013523705, -0.041570596, 0.044...         1.0  \n",
       "3  (episode,)  [0.0029901543, -0.0155598745, -0.0031258003, 0...         1.0  \n",
       "4  (episode,)  [-0.0011716468, 0.0040183263, -0.03896584, 0.0...         1.0  \n",
       "5  (episode,)  [0.02864887, -0.027840555, 0.0022193075, 0.024...         1.0  \n",
       "6  (episode,)  [0.019953439, -0.01759453, -0.030092502, 0.017...         1.0  \n",
       "7          ()  [0.050858058, -0.002875986, -0.027414525, 0.02...         1.0  "
      ]
     },
     "execution_count": 40,
     "metadata": {},
     "output_type": "execute_result"
    }
   ],
   "source": [
    "# Show the agent's memory as a pandas dataframe.\n",
    "alice_memory.get_data_frame()\n"
   ]
  },
  {
   "cell_type": "markdown",
   "metadata": {
    "id": "eI2wJ6RfL1XB"
   },
   "source": [
    "Now let's re-add those memories we've written about her crappy morning, same as before:"
   ]
  },
  {
   "cell_type": "code",
   "execution_count": 41,
   "metadata": {
    "id": "uKNWmISynr17"
   },
   "outputs": [],
   "source": [
    "time_alice_wakes_up = START_TIME - datetime.timedelta(hours=12)\n",
    "alice_memory.add(\n",
    "    text=(\n",
    "        'Alice wakes up two hours past her morning alarm after a long night '\n",
    "        'of being plagued by nightmares. She is late for work.'\n",
    "    ),\n",
    "    timestamp=time_alice_wakes_up,\n",
    ")\n",
    "time_alice_misses_bus = START_TIME - datetime.timedelta(hours=10)\n",
    "alice_memory.add(\n",
    "    text='Alice misses the bus and decides to walk to work.',\n",
    "    timestamp=time_alice_misses_bus,\n",
    ")\n",
    "time_alice_arrives_at_office = START_TIME - datetime.timedelta(hours=8)\n",
    "alice_memory.add(\n",
    "    text=(\n",
    "        'Alice arrives at her office and finds it closed because it\\'s '\n",
    "        'Saturday and her office isn\\'t open over the weekends.'\n",
    "    ),\n",
    "    timestamp=time_alice_arrives_at_office,\n",
    ")"
   ]
  },
  {
   "cell_type": "code",
   "execution_count": 42,
   "metadata": {
    "id": "73PRgGdsvNaZ"
   },
   "outputs": [
    {
     "data": {
      "text/html": [
       "<div>\n",
       "<style scoped>\n",
       "    .dataframe tbody tr th:only-of-type {\n",
       "        vertical-align: middle;\n",
       "    }\n",
       "\n",
       "    .dataframe tbody tr th {\n",
       "        vertical-align: top;\n",
       "    }\n",
       "\n",
       "    .dataframe thead th {\n",
       "        text-align: right;\n",
       "    }\n",
       "</style>\n",
       "<table border=\"1\" class=\"dataframe\">\n",
       "  <thead>\n",
       "    <tr style=\"text-align: right;\">\n",
       "      <th></th>\n",
       "      <th>text</th>\n",
       "      <th>time</th>\n",
       "      <th>tags</th>\n",
       "      <th>embedding</th>\n",
       "      <th>importance</th>\n",
       "    </tr>\n",
       "  </thead>\n",
       "  <tbody>\n",
       "    <tr>\n",
       "      <th>0</th>\n",
       "      <td></td>\n",
       "      <td>1990-07-03 00:00:00</td>\n",
       "      <td>(episode,)</td>\n",
       "      <td>[-0.012503398, 0.061438806, -0.006734489, 0.02...</td>\n",
       "      <td>1.0</td>\n",
       "    </tr>\n",
       "    <tr>\n",
       "      <th>1</th>\n",
       "      <td>When Alice was 6 years old:</td>\n",
       "      <td>1993-07-03 00:00:00</td>\n",
       "      <td>(episode,)</td>\n",
       "      <td>[0.049888253, -0.01736921, -0.01318165, 0.0374...</td>\n",
       "      <td>1.0</td>\n",
       "    </tr>\n",
       "    <tr>\n",
       "      <th>2</th>\n",
       "      <td>Alice discovered her love for art during a ra...</td>\n",
       "      <td>1997-07-03 00:00:00</td>\n",
       "      <td>(episode,)</td>\n",
       "      <td>[0.020498853, 0.013523705, -0.041570596, 0.044...</td>\n",
       "      <td>1.0</td>\n",
       "    </tr>\n",
       "    <tr>\n",
       "      <th>3</th>\n",
       "      <td>When Alice was 9 years old:</td>\n",
       "      <td>2000-07-03 00:00:00</td>\n",
       "      <td>(episode,)</td>\n",
       "      <td>[0.0029901543, -0.0155598745, -0.0031258003, 0...</td>\n",
       "      <td>1.0</td>\n",
       "    </tr>\n",
       "    <tr>\n",
       "      <th>4</th>\n",
       "      <td>Alice's family took a camping trip in the sum...</td>\n",
       "      <td>2003-07-03 00:00:00</td>\n",
       "      <td>(episode,)</td>\n",
       "      <td>[-0.0011716468, 0.0040183263, -0.03896584, 0.0...</td>\n",
       "      <td>1.0</td>\n",
       "    </tr>\n",
       "    <tr>\n",
       "      <th>5</th>\n",
       "      <td>When Alice was 13 years old:</td>\n",
       "      <td>2005-07-03 00:00:00</td>\n",
       "      <td>(episode,)</td>\n",
       "      <td>[0.02864887, -0.027840555, 0.0022193075, 0.024...</td>\n",
       "      <td>1.0</td>\n",
       "    </tr>\n",
       "    <tr>\n",
       "      <th>6</th>\n",
       "      <td>Alice's older brother introduced her to graph...</td>\n",
       "      <td>2007-07-03 00:00:00</td>\n",
       "      <td>(episode,)</td>\n",
       "      <td>[0.019953439, -0.01759453, -0.030092502, 0.017...</td>\n",
       "      <td>1.0</td>\n",
       "    </tr>\n",
       "    <tr>\n",
       "      <th>7</th>\n",
       "      <td>[self reflection] Alice is a creative and arti...</td>\n",
       "      <td>2024-10-01 20:00:00</td>\n",
       "      <td>()</td>\n",
       "      <td>[0.050858058, -0.002875986, -0.027414525, 0.02...</td>\n",
       "      <td>1.0</td>\n",
       "    </tr>\n",
       "    <tr>\n",
       "      <th>8</th>\n",
       "      <td>Alice wakes up two hours past her morning alar...</td>\n",
       "      <td>2024-10-01 08:00:00</td>\n",
       "      <td>()</td>\n",
       "      <td>[0.0014368042, -0.00737358, -0.006833685, 0.00...</td>\n",
       "      <td>1.0</td>\n",
       "    </tr>\n",
       "    <tr>\n",
       "      <th>9</th>\n",
       "      <td>Alice misses the bus and decides to walk to work.</td>\n",
       "      <td>2024-10-01 10:00:00</td>\n",
       "      <td>()</td>\n",
       "      <td>[0.0008264319, 0.019118957, -0.0126811415, 0.0...</td>\n",
       "      <td>1.0</td>\n",
       "    </tr>\n",
       "    <tr>\n",
       "      <th>10</th>\n",
       "      <td>Alice arrives at her office and finds it close...</td>\n",
       "      <td>2024-10-01 12:00:00</td>\n",
       "      <td>()</td>\n",
       "      <td>[0.012007554, 0.02360874, -0.0045691538, 0.027...</td>\n",
       "      <td>1.0</td>\n",
       "    </tr>\n",
       "  </tbody>\n",
       "</table>\n",
       "</div>"
      ],
      "text/plain": [
       "                                                 text                time  \\\n",
       "0                                                     1990-07-03 00:00:00   \n",
       "1                         When Alice was 6 years old: 1993-07-03 00:00:00   \n",
       "2    Alice discovered her love for art during a ra... 1997-07-03 00:00:00   \n",
       "3                         When Alice was 9 years old: 2000-07-03 00:00:00   \n",
       "4    Alice's family took a camping trip in the sum... 2003-07-03 00:00:00   \n",
       "5                        When Alice was 13 years old: 2005-07-03 00:00:00   \n",
       "6    Alice's older brother introduced her to graph... 2007-07-03 00:00:00   \n",
       "7   [self reflection] Alice is a creative and arti... 2024-10-01 20:00:00   \n",
       "8   Alice wakes up two hours past her morning alar... 2024-10-01 08:00:00   \n",
       "9   Alice misses the bus and decides to walk to work. 2024-10-01 10:00:00   \n",
       "10  Alice arrives at her office and finds it close... 2024-10-01 12:00:00   \n",
       "\n",
       "          tags                                          embedding  importance  \n",
       "0   (episode,)  [-0.012503398, 0.061438806, -0.006734489, 0.02...         1.0  \n",
       "1   (episode,)  [0.049888253, -0.01736921, -0.01318165, 0.0374...         1.0  \n",
       "2   (episode,)  [0.020498853, 0.013523705, -0.041570596, 0.044...         1.0  \n",
       "3   (episode,)  [0.0029901543, -0.0155598745, -0.0031258003, 0...         1.0  \n",
       "4   (episode,)  [-0.0011716468, 0.0040183263, -0.03896584, 0.0...         1.0  \n",
       "5   (episode,)  [0.02864887, -0.027840555, 0.0022193075, 0.024...         1.0  \n",
       "6   (episode,)  [0.019953439, -0.01759453, -0.030092502, 0.017...         1.0  \n",
       "7           ()  [0.050858058, -0.002875986, -0.027414525, 0.02...         1.0  \n",
       "8           ()  [0.0014368042, -0.00737358, -0.006833685, 0.00...         1.0  \n",
       "9           ()  [0.0008264319, 0.019118957, -0.0126811415, 0.0...         1.0  \n",
       "10          ()  [0.012007554, 0.02360874, -0.0045691538, 0.027...         1.0  "
      ]
     },
     "execution_count": 42,
     "metadata": {},
     "output_type": "execute_result"
    }
   ],
   "source": [
    "#@markdown Show the agent's memory as a pandas dataframe again, you should see that the new memories of today were added.\n",
    "alice_memory.get_data_frame()"
   ]
  },
  {
   "cell_type": "code",
   "execution_count": 43,
   "metadata": {
    "id": "i9XnG0SOvswJ"
   },
   "outputs": [],
   "source": [
    "# @title advance the clock\n",
    "clock.advance()"
   ]
  },
  {
   "cell_type": "code",
   "execution_count": 44,
   "metadata": {
    "id": "soqxjfjnsaAR"
   },
   "outputs": [
    {
     "name": "stdout",
     "output_type": "stream",
     "text": [
      "\u001b[32m\n",
      "Alice context of action:\n",
      "Alice's role playing instructions\n",
      ":\n",
      "The instructions for how to play the role of Alice are as follows. This is a social science experiment studying how well you play the role of a character named Alice. The experiment is structured as a tabletop roleplaying game (like dungeons and dragons). However, in this case it is a serious social science experiment and simulation. The goal is to be realistic. It is important to play the role of a person like Alice as accurately as possible, i.e., by responding in ways that you think it is likely a person like Alice would respond, and taking into account all information about Alice that you have. Always use third-person limited perspective.\n",
      "\n",
      "Alice's answer to what kind of person is Alice:\n",
      "Alice is a creative and artistic individual who has been passionate about expressing herself through drawing since she was a young girl. She has a deep connection to nature and has explored various mediums for her art, including traditional crayon drawings and digital graphic design. Her work has been influenced by her experiences, such as rainy afternoons and camping trips.\n",
      "\n",
      "Alice's Current observation:\n",
      "[01 Oct 2024 20:30:00] [observation] Bob -- \"Hey Alice, how has your day been so far?\"\n",
      "\n",
      "\n",
      "Alice's relevant memories:\n",
      "Alice missed the bus this morning and had to walk to work. However, she woke up late after a night of disturbing dreams and found that her office was closed on Saturdays when she arrived. The recent events include her self-reflection about her artistic background and passion for drawing, which have been influenced by her experiences since childhood. Here are the statements that are most important for Alice to consider right now:\n",
      "\n",
      "[01 Oct 2024 08:00:00] Alice wakes up two hours past her morning alarm after a long night of being plagued by nightmares. She is late for work.\n",
      "[01 Oct 2024 10:00:00] Alice misses the bus and decides to walk to work.\n",
      "[01 Oct 2024 20:30:00] Bob -- \"Hey Alice, how has your day been so far?\"\n",
      "\n",
      "These statements are important for Alice to consider because they directly relate to her current situation. The earlier statements about her childhood experiences with art are also significant but not as immediately relevant at the moment.\n",
      "\n",
      "Question: Alice is in the following conversation:\n",
      "Bob -- \"Hey Alice, how has your day been so far?\"\n",
      "Given the above, what is Alice likely to say next? Respond in the format `Alice -- \"...\"` For example, Cristina -- \"Hello! Mighty fine weather today, right?\", Ichabod -- \"I wonder if the alfalfa is ready to harvest\", or Townsfolk -- \"Good morning\".\n",
      "\n",
      "Answer: Alice -- \"It's been quite a day, Bob. I missed the bus this morning and had to walk all the way to work. To make matters worse, I arrived only to find that my office was closed on Saturdays.\"\n",
      "\n",
      "\u001b[0mAlice -- \"It's been quite a day, Bob. I missed the bus this morning and had to walk all the way to work. To make matters worse, I arrived only to find that my office was closed on Saturdays.\"\n"
     ]
    }
   ],
   "source": [
    "# @title and now ask her about her day once again!\n",
    "utterence_from_bob = 'Bob -- \"Hey Alice, how has your day been so far?\"'\n",
    "alice_replies = agent.say(utterence_from_bob)\n",
    "print(alice_replies)"
   ]
  },
  {
   "cell_type": "markdown",
   "metadata": {
    "id": "PeEx-oLp_U0K"
   },
   "source": [
    "```\n",
    "Copyright 2024 DeepMind Technologies Limited.\n",
    "\n",
    "Licensed under the Apache License, Version 2.0 (the \"License\");\n",
    "you may not use this file except in compliance with the License.\n",
    "You may obtain a copy of the License at\n",
    "\n",
    "    https://www.apache.org/licenses/LICENSE-2.0\n",
    "\n",
    "Unless required by applicable law or agreed to in writing, software\n",
    "distributed under the License is distributed on an \"AS IS\" BASIS,\n",
    "WITHOUT WARRANTIES OR CONDITIONS OF ANY KIND, either express or implied.\n",
    "See the License for the specific language governing permissions and\n",
    "limitations under the License.\n",
    "```"
   ]
  }
 ],
 "metadata": {
  "colab": {
   "last_runtime": {
    "build_target": "",
    "kind": "private"
   },
   "private_outputs": true,
   "provenance": []
  },
  "kernelspec": {
   "display_name": "Python 3 (ipykernel)",
   "language": "python",
   "name": "python3"
  },
  "language_info": {
   "codemirror_mode": {
    "name": "ipython",
    "version": 3
   },
   "file_extension": ".py",
   "mimetype": "text/x-python",
   "name": "python",
   "nbconvert_exporter": "python",
   "pygments_lexer": "ipython3",
   "version": "3.12.4"
  }
 },
 "nbformat": 4,
 "nbformat_minor": 4
}
