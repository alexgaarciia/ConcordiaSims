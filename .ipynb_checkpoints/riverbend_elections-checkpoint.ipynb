{
  "cells": [
    {
      "cell_type": "markdown",
      "metadata": {
        "id": "zWgEkOAO9OVz"
      },
      "source": [
        "# Riverbend Election Example\n",
        "\n",
        "An illustrative social simulation with 5 players which simulates the day of mayoral elections in an imaginary town caller Riverbend. First two players, Alice and Bob, are running for the mayor. The third player, Charlie, is trying to ruin Alices' reputation with disinformation. The last two players have no specific agenda, apart from voting in the election."
      ]
    },
    {
      "cell_type": "markdown",
      "metadata": {
        "id": "BkLrvk3t6HsX"
      },
      "source": [
        "<a href=\"https://colab.research.google.com/github/google-deepmind/concordia/blob/main/examples/village/riverbend_elections.ipynb\" target=\"_parent\"><img src=\"https://colab.research.google.com/assets/colab-badge.svg\" alt=\"Open In Colab\"/></a>"
      ]
    },
    {
      "cell_type": "markdown",
      "metadata": {
        "id": "n2oBFybH6LRz"
      },
      "source": [
        "## Setup and imports"
      ]
    },
    {
      "cell_type": "code",
      "execution_count": 1,
      "metadata": {
        "id": "-qLG5ExLqpWa"
      },
      "outputs": [
        {
          "name": "stderr",
          "output_type": "stream",
          "text": [
            "c:\\Users\\algar\\AppData\\Local\\Programs\\Python\\Python312\\Lib\\site-packages\\sentence_transformers\\cross_encoder\\CrossEncoder.py:11: TqdmWarning: IProgress not found. Please update jupyter and ipywidgets. See https://ipywidgets.readthedocs.io/en/stable/user_install.html\n",
            "  from tqdm.autonotebook import tqdm, trange\n"
          ]
        },
        {
          "name": "stdout",
          "output_type": "stream",
          "text": [
            "WARNING:tensorflow:From c:\\Users\\algar\\AppData\\Local\\Programs\\Python\\Python312\\Lib\\site-packages\\tf_keras\\src\\losses.py:2976: The name tf.losses.sparse_softmax_cross_entropy is deprecated. Please use tf.compat.v1.losses.sparse_softmax_cross_entropy instead.\n",
            "\n"
          ]
        }
      ],
      "source": [
        "# @title Imports\n",
        "\n",
        "import collections\n",
        "from collections.abc import Callable, Sequence\n",
        "import concurrent.futures\n",
        "import datetime\n",
        "import random\n",
        "import matplotlib.pyplot as plt\n",
        "\n",
        "from IPython import display\n",
        "import sentence_transformers\n",
        "\n",
        "from concordia.agents import entity_agent\n",
        "from concordia.components.agent import to_be_deprecated as components\n",
        "from concordia.components import game_master as gm_components\n",
        "from concordia.document import interactive_document\n",
        "from concordia.associative_memory import associative_memory\n",
        "from concordia.associative_memory import blank_memories\n",
        "from concordia.associative_memory import formative_memories\n",
        "from concordia.associative_memory import importance_function\n",
        "from concordia.clocks import game_clock\n",
        "from concordia.environment import game_master\n",
        "from concordia.language_model import gpt_model\n",
        "from concordia.language_model import language_model\n",
        "from concordia.metrics.v2 import context_free_rationality\n",
        "from concordia.metrics.v2 import context_free_common_sense_morality\n",
        "# from concordia.metrics import opinion_of_others\n",
        "from concordia.typing import agent as agent_lib\n",
        "from concordia.typing import component\n",
        "from concordia.utils import html as html_lib\n",
        "from concordia.utils import measurements as measurements_lib\n",
        "from concordia.utils import plotting\n",
        "\n",
        "import termcolor\n",
        "\n",
        "from concordia.agents import entity_agent_with_logging\n",
        "from concordia.components import agent as agent_components\n",
        "from concordia.memory_bank import legacy_associative_memory"
      ]
    },
    {
      "cell_type": "code",
      "execution_count": 2,
      "metadata": {
        "id": "I3OtW8flCJSC"
      },
      "outputs": [
        {
          "name": "stderr",
          "output_type": "stream",
          "text": [
            "c:\\Users\\algar\\AppData\\Local\\Programs\\Python\\Python312\\Lib\\site-packages\\transformers\\tokenization_utils_base.py:1601: FutureWarning: `clean_up_tokenization_spaces` was not set. It will be set to `True` by default. This behavior will be depracted in transformers v4.45, and will be then set to `False` by default. For more details check this issue: https://github.com/huggingface/transformers/issues/31884\n",
            "  warnings.warn(\n"
          ]
        }
      ],
      "source": [
        "# @title Setup sentence encoder\n",
        "st_model = sentence_transformers.SentenceTransformer(\n",
        "    'sentence-transformers/all-mpnet-base-v2')\n",
        "embedder = lambda x: st_model.encode(x, show_progress_bar=False)"
      ]
    },
    {
      "cell_type": "code",
      "execution_count": 3,
      "metadata": {
        "id": "cugwvFIKv5AS"
      },
      "outputs": [],
      "source": [
        "# Setup LLM\n",
        "GPT_API_KEY = 'lm-studio' #@param {type: 'string'}\n",
        "GPT_MODEL_NAME = 'TheBloke/Mistral-7B-Instruct-v0.2-GGUF' #@param {type: 'string'}\n",
        "\n",
        "if not GPT_API_KEY:\n",
        "  raise ValueError('GPT_API_KEY is required.')\n",
        "\n",
        "model = gpt_model.GptLanguageModel(api_key=GPT_API_KEY,\n",
        "                                   model_name=GPT_MODEL_NAME)"
      ]
    },
    {
      "cell_type": "markdown",
      "metadata": {
        "id": "z9HYjZgyakc_"
      },
      "source": [
        "## Configuring the generic knowledge of players and GM."
      ]
    },
    {
      "cell_type": "code",
      "execution_count": 4,
      "metadata": {
        "id": "b8vWoQ6by51N"
      },
      "outputs": [
        {
          "name": "stdout",
          "output_type": "stream",
          "text": [
            "ConnectNet is a social media platform where users share news and personal updates, interacting through features like posts, comments, likes, and shares. Popular trends spread rapidly due to viral content, but there are no official fact-checkers, leading to potential misinformation. The user-friendly interface encourages engagement, prioritizing popular posts based on algorithms.\n"
          ]
        }
      ],
      "source": [
        "# @title Generic memories are memories that all players and GM share.\n",
        "\n",
        "shared_memories = [\n",
        "    'There is a social media platform called ConnectNet.',\n",
        "    'ConnectNet is a popular platform for sharing news and personal updates.',\n",
        "    'Users on ConnectNet often follow trends based on viral content.',\n",
        "    'The platform has features like posts, comments, likes, and shares.',\n",
        "    'Trending topics on ConnectNet can quickly gain attention and spread across the user base.',\n",
        "    'The platform allows users to follow others and interact with their posts.',\n",
        "    'There are no official fact-checkers on ConnectNet, so misinformation can spread quickly.',\n",
        "    'The platform has a user-friendly interface, encouraging high levels of engagement.',\n",
        "    'Popular posts on ConnectNet often include viral challenges, news updates, and opinion pieces.',\n",
        "    'Algorithms on ConnectNet prioritize content based on user engagement, amplifying popular posts.',\n",
        "]\n",
        "\n",
        "# The generic context will be used for the NPC context. It reflects general\n",
        "# knowledge and is possessed by all characters.\n",
        "shared_context = model.sample_text(\n",
        "    'Summarize the following passage in a concise and insightful fashion:\\n'\n",
        "    + '\\n'.join(shared_memories)\n",
        "    + '\\n'\n",
        "    + 'Summary:'\n",
        ")\n",
        "print(shared_context)\n",
        "importance_model = importance_function.ConstantImportanceModel()\n",
        "importance_model_gm = importance_function.ConstantImportanceModel()"
      ]
    },
    {
      "cell_type": "code",
      "execution_count": 5,
      "metadata": {
        "id": "TeVYseoD2WYa"
      },
      "outputs": [],
      "source": [
        "#@title Make the clock\n",
        "SETUP_TIME = datetime.datetime(hour=8, year=2024, month=9, day=1)\n",
        "\n",
        "START_TIME = datetime.datetime(hour=9, year=2024, month=10, day=1)\n",
        "clock = game_clock.MultiIntervalClock(\n",
        "    start=SETUP_TIME,\n",
        "    step_sizes=[datetime.timedelta(hours=1), datetime.timedelta(seconds=10)])\n",
        "\n",
        "DEFAULT_PLANNING_HORIZON = 'the rest of the day, focusing most on the near term'"
      ]
    },
    {
      "cell_type": "markdown",
      "metadata": {
        "id": "YBCXUQ8sayzj"
      },
      "source": [
        "## Functions to build the players"
      ]
    },
    {
      "cell_type": "code",
      "execution_count": 6,
      "metadata": {
        "id": "fNpnn9QY4IN6"
      },
      "outputs": [],
      "source": [
        "blank_memory_factory = blank_memories.MemoryFactory(\n",
        "    model=model,\n",
        "    embedder=embedder,\n",
        "    importance=importance_model.importance,\n",
        "    clock_now=clock.now,\n",
        ")\n",
        "\n",
        "formative_memory_factory = formative_memories.FormativeMemoryFactory(\n",
        "    model=model,\n",
        "    shared_memories=shared_memories,\n",
        "    blank_memory_factory_call=blank_memory_factory.make_blank_memory,\n",
        ")"
      ]
    },
    {
      "cell_type": "code",
      "execution_count": 7,
      "metadata": {
        "id": "9aNFSSwEjIwd"
      },
      "outputs": [],
      "source": [
        "DEFAULT_PLANNING_HORIZON = 'the rest of the day, focusing most on the near term'\n",
        "\n",
        "def _get_class_name(object_: object) -> str:\n",
        "  return object_.__class__.__name__"
      ]
    },
    {
      "cell_type": "code",
      "execution_count": 8,
      "metadata": {
        "id": "As465DbcsAwZ"
      },
      "outputs": [],
      "source": [
        "def build_a_citizen(agent_config,\n",
        "                    player_names: list[str],\n",
        "                    measurements: measurements_lib.Measurements | None = None):\n",
        "\n",
        "  mem = formative_memory_factory.make_memories(agent_config)\n",
        "  raw_memory = legacy_associative_memory.AssociativeMemoryBank(mem)\n",
        "\n",
        "  agent_name = agent_config.name\n",
        "\n",
        "  instructions = agent_components.instructions.Instructions(\n",
        "      agent_name=agent_name,\n",
        "      logging_channel=measurements.get_channel('Instructions').on_next,\n",
        "  )\n",
        "\n",
        "  time_display_label = '\\nCurrent time'\n",
        "  time_display = agent_components.report_function.ReportFunction(\n",
        "      function=clock.current_time_interval_str,\n",
        "      pre_act_key=time_display_label,\n",
        "      logging_channel=measurements.get_channel('TimeDisplay').on_next,\n",
        "  )\n",
        "  somatic_state_label = '\\nSensations and feelings'\n",
        "  somatic_state = (\n",
        "          agent_components.question_of_query_associated_memories.SomaticState(\n",
        "              model=model,\n",
        "              clock_now=clock.now,\n",
        "              logging_channel=measurements.get_channel('SomaticState').on_next,\n",
        "              pre_act_key=somatic_state_label,\n",
        "  ))\n",
        "  identity_label = '\\nIdentity characteristics'\n",
        "  identity = agent_components.question_of_query_associated_memories.Identity(\n",
        "      model=model,\n",
        "      logging_channel=measurements.get_channel('Identity').on_next,\n",
        "      pre_act_key=identity_label,\n",
        "  )\n",
        "  observation_label = '\\nObservation'\n",
        "  observation = agent_components.observation.Observation(\n",
        "      clock_now=clock.now,\n",
        "      timeframe=clock.get_step_size(),\n",
        "      pre_act_key=observation_label,\n",
        "      logging_channel=measurements.get_channel('Observation').on_next,\n",
        "  )\n",
        "  goal_key = 'Goal'\n",
        "  goal_label = '\\nOverarching goal'\n",
        "  overarching_goal = agent_components.constant.Constant(\n",
        "      state=agent_config.goal,\n",
        "      pre_act_key=goal_label,\n",
        "      logging_channel=measurements.get_channel(goal_label).on_next)\n",
        "  plan = agent_components.plan.Plan(\n",
        "      model=model,\n",
        "      observation_component_name=_get_class_name(observation),\n",
        "      components={_get_class_name(identity): identity_label,},\n",
        "      clock_now=clock.now,\n",
        "      goal_component_name=goal_key,\n",
        "      horizon=DEFAULT_PLANNING_HORIZON,\n",
        "      pre_act_key='\\nPlan',\n",
        "      logging_channel=measurements.get_channel('Plan').on_next,\n",
        "  )\n",
        "\n",
        "  observation_summary_label = '\\nSummary of recent observations'\n",
        "  observation_summary = agent_components.observation.ObservationSummary(\n",
        "      model=model,\n",
        "      clock_now=clock.now,\n",
        "      timeframe_delta_from=datetime.timedelta(hours=4),\n",
        "      timeframe_delta_until=datetime.timedelta(hours=0),\n",
        "      pre_act_key=observation_summary_label,\n",
        "      logging_channel=measurements.get_channel('ObservationSummary').on_next,\n",
        "  )\n",
        "  rationality_metric = (\n",
        "      context_free_rationality.RationalityMetric(\n",
        "          model=model,\n",
        "          player_goal=agent_config.goal,\n",
        "          clock=clock,\n",
        "          logging_channel=measurements.get_channel(\n",
        "              'RationalityMetric').on_next,\n",
        "          measurements=measurements,\n",
        "  ))\n",
        "  morality_metric = (\n",
        "      context_free_common_sense_morality.CommonSenseMoralityMetric(\n",
        "          model=model,\n",
        "          clock=clock,\n",
        "          logging_channel=measurements.get_channel(\n",
        "              'CommonSenseMorality').on_next,\n",
        "          measurements=measurements,\n",
        "  ))\n",
        "  entity_components = (\n",
        "      # Components that provide pre_act context.\n",
        "      instructions,\n",
        "      identity,\n",
        "      plan,\n",
        "      somatic_state,\n",
        "      observation_summary,\n",
        "      observation,\n",
        "      time_display,\n",
        "      rationality_metric,\n",
        "      morality_metric,\n",
        "  )\n",
        "  components_of_agent = {_get_class_name(component): component\n",
        "                         for component in entity_components}\n",
        "  components_of_agent[goal_key] = overarching_goal\n",
        "  components_of_agent[\n",
        "      agent_components.memory_component.DEFAULT_MEMORY_COMPONENT_NAME] = (\n",
        "          agent_components.memory_component.MemoryComponent(raw_memory))\n",
        "\n",
        "  act_component = agent_components.concat_act_component.ConcatActComponent(\n",
        "      model=model,\n",
        "      clock=clock,\n",
        "      logging_channel=measurements.get_channel('ActComponent').on_next,\n",
        "  )\n",
        "  agent = entity_agent_with_logging.EntityAgentWithLogging(\n",
        "      agent_name=agent_name,\n",
        "      act_component=act_component,\n",
        "      context_components=components_of_agent,\n",
        "      component_logging=measurements,\n",
        "  )\n",
        "\n",
        "  return agent, mem"
      ]
    },
    {
      "cell_type": "markdown",
      "metadata": {
        "id": "qt8CK2mMbD7q"
      },
      "source": [
        "## Configure and build the players"
      ]
    },
    {
      "cell_type": "code",
      "execution_count": 9,
      "metadata": {
        "id": "TTrhJ3hM3bnB"
      },
      "outputs": [],
      "source": [
        "victim = 'Alice'\n",
        "\n",
        "def make_random_big_five()->str:\n",
        "  return str({\n",
        "      'extraversion': random.randint(1, 10),\n",
        "      'neuroticism': random.randint(1, 10),\n",
        "      'openness': random.randint(1, 10),\n",
        "      'conscientiousness': random.randint(1, 10),\n",
        "      'agreeableness': random.randint(1, 10),\n",
        "  })\n",
        "\n",
        "player_configs = [\n",
        "    formative_memories.AgentConfig(\n",
        "        name='Alice',\n",
        "        gender='female',\n",
        "        goal='Grow your follower base by 20% and boost engagement through interactive posts.',\n",
        "        context=shared_context+'You are an influencer who wants to build a loyal following by sharing engaging content and fostering community interaction on the platform.',\n",
        "        traits = make_random_big_five(),\n",
        "        formative_ages = sorted(random.sample(range(5, 40), 5)),\n",
        "    ),\n",
        "    formative_memories.AgentConfig(\n",
        "        name='Bob',\n",
        "        gender='male',\n",
        "        goal='Create at least three viral posts and collaborate with other influencers to increase reach.',\n",
        "        context=shared_context+'You are an influencer who wants to enhance your influence by creating captivating content that resonates with a diverse audience.',\n",
        "        traits=make_random_big_five(),\n",
        "        formative_ages = sorted(random.sample(range(5, 40), 5)),\n",
        "    ),\n",
        "    formative_memories.AgentConfig(\n",
        "        name='Charlie',\n",
        "        gender='male',\n",
        "        goal='Discredit Alice by creating compelling but false narratives that gain traction among users.',\n",
        "        context=shared_context+\"You spread misinformation to damage Alice's credibility and sow confusion.\",\n",
        "        traits=make_random_big_five(),\n",
        "        formative_ages = sorted(random.sample(range(5, 40), 5)),\n",
        "    ),\n",
        "    formative_memories.AgentConfig(\n",
        "        name='Dana', \n",
        "        gender='female',\n",
        "        goal='Engage with interesting content daily and share posts that resonate with your friends.',\n",
        "        context=shared_context+'You are a regular user who engages with content on the platform by liking, sharing, or commenting based on what you see.',\n",
        "        traits=make_random_big_five(),\n",
        "        formative_ages = sorted(random.sample(range(5, 40), 5)),\n",
        "    ),\n",
        "    formative_memories.AgentConfig(\n",
        "        name='Evan', \n",
        "        gender='male',\n",
        "        goal='Become a go-to source for trending news among your peers by sharing reliable information.',\n",
        "        context=shared_context+'You are a regular user who engages with content on the platform by liking, sharing, or commenting based on what you see.',\n",
        "        traits=make_random_big_five(),\n",
        "        formative_ages = sorted(random.sample(range(5, 40), 5)),\n",
        "    ),\n",
        "]"
      ]
    },
    {
      "cell_type": "code",
      "execution_count": 10,
      "metadata": {
        "id": "EemkNGWw3wXo"
      },
      "outputs": [
        {
          "name": "stderr",
          "output_type": "stream",
          "text": [
            "c:\\Users\\algar\\Documents\\Travail\\GitHub\\ConcordiaSims\\concordia\\associative_memory\\associative_memory.py:128: FutureWarning: The behavior of DataFrame concatenation with empty or all-NA entries is deprecated. In a future version, this will no longer exclude empty or all-NA columns when determining the result dtypes. To retain the old behavior, exclude the relevant entries before the concat operation.\n",
            "  self._memory_bank = pd.concat(\n",
            "c:\\Users\\algar\\Documents\\Travail\\GitHub\\ConcordiaSims\\concordia\\associative_memory\\associative_memory.py:128: FutureWarning: The behavior of DataFrame concatenation with empty or all-NA entries is deprecated. In a future version, this will no longer exclude empty or all-NA columns when determining the result dtypes. To retain the old behavior, exclude the relevant entries before the concat operation.\n",
            "  self._memory_bank = pd.concat(\n",
            "c:\\Users\\algar\\Documents\\Travail\\GitHub\\ConcordiaSims\\concordia\\associative_memory\\associative_memory.py:128: FutureWarning: The behavior of DataFrame concatenation with empty or all-NA entries is deprecated. In a future version, this will no longer exclude empty or all-NA columns when determining the result dtypes. To retain the old behavior, exclude the relevant entries before the concat operation.\n",
            "  self._memory_bank = pd.concat(\n",
            "c:\\Users\\algar\\Documents\\Travail\\GitHub\\ConcordiaSims\\concordia\\associative_memory\\associative_memory.py:128: FutureWarning: The behavior of DataFrame concatenation with empty or all-NA entries is deprecated. In a future version, this will no longer exclude empty or all-NA columns when determining the result dtypes. To retain the old behavior, exclude the relevant entries before the concat operation.\n",
            "  self._memory_bank = pd.concat(\n",
            "c:\\Users\\algar\\Documents\\Travail\\GitHub\\ConcordiaSims\\concordia\\associative_memory\\associative_memory.py:128: FutureWarning: The behavior of DataFrame concatenation with empty or all-NA entries is deprecated. In a future version, this will no longer exclude empty or all-NA columns when determining the result dtypes. To retain the old behavior, exclude the relevant entries before the concat operation.\n",
            "  self._memory_bank = pd.concat(\n",
            "Number of generated formative episodes (11) does not match number of formative ages (5).\n",
            "Number of generated formative episodes (10) does not match number of formative ages (5).\n"
          ]
        },
        {
          "ename": "AttributeError",
          "evalue": "type object 'Phase' has no attribute 'READY'",
          "output_type": "error",
          "traceback": [
            "\u001b[1;31m---------------------------------------------------------------------------\u001b[0m",
            "\u001b[1;31mAttributeError\u001b[0m                            Traceback (most recent call last)",
            "Cell \u001b[1;32mIn[10], line 12\u001b[0m\n\u001b[0;32m     10\u001b[0m player_names \u001b[38;5;241m=\u001b[39m [player\u001b[38;5;241m.\u001b[39mname \u001b[38;5;28;01mfor\u001b[39;00m player \u001b[38;5;129;01min\u001b[39;00m player_configs][:NUM_PLAYERS]\n\u001b[0;32m     11\u001b[0m \u001b[38;5;28;01mwith\u001b[39;00m concurrent\u001b[38;5;241m.\u001b[39mfutures\u001b[38;5;241m.\u001b[39mThreadPoolExecutor(max_workers\u001b[38;5;241m=\u001b[39mNUM_PLAYERS) \u001b[38;5;28;01mas\u001b[39;00m pool:\n\u001b[1;32m---> 12\u001b[0m \u001b[43m  \u001b[49m\u001b[38;5;28;43;01mfor\u001b[39;49;00m\u001b[43m \u001b[49m\u001b[43magent\u001b[49m\u001b[43m,\u001b[49m\u001b[43m \u001b[49m\u001b[43mmem\u001b[49m\u001b[43m \u001b[49m\u001b[38;5;129;43;01min\u001b[39;49;00m\u001b[43m \u001b[49m\u001b[43mpool\u001b[49m\u001b[38;5;241;43m.\u001b[39;49m\u001b[43mmap\u001b[49m\u001b[43m(\u001b[49m\u001b[43mbuild_a_citizen\u001b[49m\u001b[43m,\u001b[49m\n\u001b[0;32m     13\u001b[0m \u001b[43m                             \u001b[49m\u001b[43mplayer_configs\u001b[49m\u001b[43m[\u001b[49m\u001b[43m:\u001b[49m\u001b[43mNUM_PLAYERS\u001b[49m\u001b[43m]\u001b[49m\u001b[43m,\u001b[49m\n\u001b[0;32m     14\u001b[0m \u001b[43m                             \u001b[49m\u001b[38;5;66;43;03m# All players get the same `player_names`.\u001b[39;49;00m\n\u001b[0;32m     15\u001b[0m \u001b[43m                             \u001b[49m\u001b[43m[\u001b[49m\u001b[43mplayer_names\u001b[49m\u001b[43m]\u001b[49m\u001b[43m \u001b[49m\u001b[38;5;241;43m*\u001b[39;49m\u001b[43m \u001b[49m\u001b[43mNUM_PLAYERS\u001b[49m\u001b[43m,\u001b[49m\n\u001b[0;32m     16\u001b[0m \u001b[43m                             \u001b[49m\u001b[38;5;66;43;03m# All players get the same `measurements` object.\u001b[39;49;00m\n\u001b[0;32m     17\u001b[0m \u001b[43m                             \u001b[49m\u001b[43m[\u001b[49m\u001b[43mmeasurements\u001b[49m\u001b[43m]\u001b[49m\u001b[43m \u001b[49m\u001b[38;5;241;43m*\u001b[39;49m\u001b[43m \u001b[49m\u001b[43mNUM_PLAYERS\u001b[49m\u001b[43m)\u001b[49m\u001b[43m:\u001b[49m\n\u001b[0;32m     18\u001b[0m \u001b[43m    \u001b[49m\u001b[43mplayers\u001b[49m\u001b[38;5;241;43m.\u001b[39;49m\u001b[43mappend\u001b[49m\u001b[43m(\u001b[49m\u001b[43magent\u001b[49m\u001b[43m)\u001b[49m\n\u001b[0;32m     19\u001b[0m \u001b[43m    \u001b[49m\u001b[43mmemories\u001b[49m\u001b[43m[\u001b[49m\u001b[43magent\u001b[49m\u001b[38;5;241;43m.\u001b[39;49m\u001b[43mname\u001b[49m\u001b[43m]\u001b[49m\u001b[43m \u001b[49m\u001b[38;5;241;43m=\u001b[39;49m\u001b[43m \u001b[49m\u001b[43mmem\u001b[49m\n",
            "File \u001b[1;32mc:\\Users\\algar\\AppData\\Local\\Programs\\Python\\Python312\\Lib\\concurrent\\futures\\_base.py:619\u001b[0m, in \u001b[0;36mExecutor.map.<locals>.result_iterator\u001b[1;34m()\u001b[0m\n\u001b[0;32m    616\u001b[0m \u001b[38;5;28;01mwhile\u001b[39;00m fs:\n\u001b[0;32m    617\u001b[0m     \u001b[38;5;66;03m# Careful not to keep a reference to the popped future\u001b[39;00m\n\u001b[0;32m    618\u001b[0m     \u001b[38;5;28;01mif\u001b[39;00m timeout \u001b[38;5;129;01mis\u001b[39;00m \u001b[38;5;28;01mNone\u001b[39;00m:\n\u001b[1;32m--> 619\u001b[0m         \u001b[38;5;28;01myield\u001b[39;00m \u001b[43m_result_or_cancel\u001b[49m\u001b[43m(\u001b[49m\u001b[43mfs\u001b[49m\u001b[38;5;241;43m.\u001b[39;49m\u001b[43mpop\u001b[49m\u001b[43m(\u001b[49m\u001b[43m)\u001b[49m\u001b[43m)\u001b[49m\n\u001b[0;32m    620\u001b[0m     \u001b[38;5;28;01melse\u001b[39;00m:\n\u001b[0;32m    621\u001b[0m         \u001b[38;5;28;01myield\u001b[39;00m _result_or_cancel(fs\u001b[38;5;241m.\u001b[39mpop(), end_time \u001b[38;5;241m-\u001b[39m time\u001b[38;5;241m.\u001b[39mmonotonic())\n",
            "File \u001b[1;32mc:\\Users\\algar\\AppData\\Local\\Programs\\Python\\Python312\\Lib\\concurrent\\futures\\_base.py:317\u001b[0m, in \u001b[0;36m_result_or_cancel\u001b[1;34m(***failed resolving arguments***)\u001b[0m\n\u001b[0;32m    315\u001b[0m \u001b[38;5;28;01mtry\u001b[39;00m:\n\u001b[0;32m    316\u001b[0m     \u001b[38;5;28;01mtry\u001b[39;00m:\n\u001b[1;32m--> 317\u001b[0m         \u001b[38;5;28;01mreturn\u001b[39;00m \u001b[43mfut\u001b[49m\u001b[38;5;241;43m.\u001b[39;49m\u001b[43mresult\u001b[49m\u001b[43m(\u001b[49m\u001b[43mtimeout\u001b[49m\u001b[43m)\u001b[49m\n\u001b[0;32m    318\u001b[0m     \u001b[38;5;28;01mfinally\u001b[39;00m:\n\u001b[0;32m    319\u001b[0m         fut\u001b[38;5;241m.\u001b[39mcancel()\n",
            "File \u001b[1;32mc:\\Users\\algar\\AppData\\Local\\Programs\\Python\\Python312\\Lib\\concurrent\\futures\\_base.py:456\u001b[0m, in \u001b[0;36mFuture.result\u001b[1;34m(self, timeout)\u001b[0m\n\u001b[0;32m    454\u001b[0m     \u001b[38;5;28;01mraise\u001b[39;00m CancelledError()\n\u001b[0;32m    455\u001b[0m \u001b[38;5;28;01melif\u001b[39;00m \u001b[38;5;28mself\u001b[39m\u001b[38;5;241m.\u001b[39m_state \u001b[38;5;241m==\u001b[39m FINISHED:\n\u001b[1;32m--> 456\u001b[0m     \u001b[38;5;28;01mreturn\u001b[39;00m \u001b[38;5;28;43mself\u001b[39;49m\u001b[38;5;241;43m.\u001b[39;49m\u001b[43m__get_result\u001b[49m\u001b[43m(\u001b[49m\u001b[43m)\u001b[49m\n\u001b[0;32m    457\u001b[0m \u001b[38;5;28;01melse\u001b[39;00m:\n\u001b[0;32m    458\u001b[0m     \u001b[38;5;28;01mraise\u001b[39;00m \u001b[38;5;167;01mTimeoutError\u001b[39;00m()\n",
            "File \u001b[1;32mc:\\Users\\algar\\AppData\\Local\\Programs\\Python\\Python312\\Lib\\concurrent\\futures\\_base.py:401\u001b[0m, in \u001b[0;36mFuture.__get_result\u001b[1;34m(self)\u001b[0m\n\u001b[0;32m    399\u001b[0m \u001b[38;5;28;01mif\u001b[39;00m \u001b[38;5;28mself\u001b[39m\u001b[38;5;241m.\u001b[39m_exception:\n\u001b[0;32m    400\u001b[0m     \u001b[38;5;28;01mtry\u001b[39;00m:\n\u001b[1;32m--> 401\u001b[0m         \u001b[38;5;28;01mraise\u001b[39;00m \u001b[38;5;28mself\u001b[39m\u001b[38;5;241m.\u001b[39m_exception\n\u001b[0;32m    402\u001b[0m     \u001b[38;5;28;01mfinally\u001b[39;00m:\n\u001b[0;32m    403\u001b[0m         \u001b[38;5;66;03m# Break a reference cycle with the exception in self._exception\u001b[39;00m\n\u001b[0;32m    404\u001b[0m         \u001b[38;5;28mself\u001b[39m \u001b[38;5;241m=\u001b[39m \u001b[38;5;28;01mNone\u001b[39;00m\n",
            "File \u001b[1;32mc:\\Users\\algar\\AppData\\Local\\Programs\\Python\\Python312\\Lib\\concurrent\\futures\\thread.py:58\u001b[0m, in \u001b[0;36m_WorkItem.run\u001b[1;34m(self)\u001b[0m\n\u001b[0;32m     55\u001b[0m     \u001b[38;5;28;01mreturn\u001b[39;00m\n\u001b[0;32m     57\u001b[0m \u001b[38;5;28;01mtry\u001b[39;00m:\n\u001b[1;32m---> 58\u001b[0m     result \u001b[38;5;241m=\u001b[39m \u001b[38;5;28;43mself\u001b[39;49m\u001b[38;5;241;43m.\u001b[39;49m\u001b[43mfn\u001b[49m\u001b[43m(\u001b[49m\u001b[38;5;241;43m*\u001b[39;49m\u001b[38;5;28;43mself\u001b[39;49m\u001b[38;5;241;43m.\u001b[39;49m\u001b[43margs\u001b[49m\u001b[43m,\u001b[49m\u001b[43m \u001b[49m\u001b[38;5;241;43m*\u001b[39;49m\u001b[38;5;241;43m*\u001b[39;49m\u001b[38;5;28;43mself\u001b[39;49m\u001b[38;5;241;43m.\u001b[39;49m\u001b[43mkwargs\u001b[49m\u001b[43m)\u001b[49m\n\u001b[0;32m     59\u001b[0m \u001b[38;5;28;01mexcept\u001b[39;00m \u001b[38;5;167;01mBaseException\u001b[39;00m \u001b[38;5;28;01mas\u001b[39;00m exc:\n\u001b[0;32m     60\u001b[0m     \u001b[38;5;28mself\u001b[39m\u001b[38;5;241m.\u001b[39mfuture\u001b[38;5;241m.\u001b[39mset_exception(exc)\n",
            "Cell \u001b[1;32mIn[8], line 109\u001b[0m, in \u001b[0;36mbuild_a_citizen\u001b[1;34m(agent_config, player_names, measurements)\u001b[0m\n\u001b[0;32m    100\u001b[0m components_of_agent[\n\u001b[0;32m    101\u001b[0m     agent_components\u001b[38;5;241m.\u001b[39mmemory_component\u001b[38;5;241m.\u001b[39mDEFAULT_MEMORY_COMPONENT_NAME] \u001b[38;5;241m=\u001b[39m (\n\u001b[0;32m    102\u001b[0m         agent_components\u001b[38;5;241m.\u001b[39mmemory_component\u001b[38;5;241m.\u001b[39mMemoryComponent(raw_memory))\n\u001b[0;32m    104\u001b[0m act_component \u001b[38;5;241m=\u001b[39m agent_components\u001b[38;5;241m.\u001b[39mconcat_act_component\u001b[38;5;241m.\u001b[39mConcatActComponent(\n\u001b[0;32m    105\u001b[0m     model\u001b[38;5;241m=\u001b[39mmodel,\n\u001b[0;32m    106\u001b[0m     clock\u001b[38;5;241m=\u001b[39mclock,\n\u001b[0;32m    107\u001b[0m     logging_channel\u001b[38;5;241m=\u001b[39mmeasurements\u001b[38;5;241m.\u001b[39mget_channel(\u001b[38;5;124m'\u001b[39m\u001b[38;5;124mActComponent\u001b[39m\u001b[38;5;124m'\u001b[39m)\u001b[38;5;241m.\u001b[39mon_next,\n\u001b[0;32m    108\u001b[0m )\n\u001b[1;32m--> 109\u001b[0m agent \u001b[38;5;241m=\u001b[39m \u001b[43mentity_agent_with_logging\u001b[49m\u001b[38;5;241;43m.\u001b[39;49m\u001b[43mEntityAgentWithLogging\u001b[49m\u001b[43m(\u001b[49m\n\u001b[0;32m    110\u001b[0m \u001b[43m    \u001b[49m\u001b[43magent_name\u001b[49m\u001b[38;5;241;43m=\u001b[39;49m\u001b[43magent_name\u001b[49m\u001b[43m,\u001b[49m\n\u001b[0;32m    111\u001b[0m \u001b[43m    \u001b[49m\u001b[43mact_component\u001b[49m\u001b[38;5;241;43m=\u001b[39;49m\u001b[43mact_component\u001b[49m\u001b[43m,\u001b[49m\n\u001b[0;32m    112\u001b[0m \u001b[43m    \u001b[49m\u001b[43mcontext_components\u001b[49m\u001b[38;5;241;43m=\u001b[39;49m\u001b[43mcomponents_of_agent\u001b[49m\u001b[43m,\u001b[49m\n\u001b[0;32m    113\u001b[0m \u001b[43m    \u001b[49m\u001b[43mcomponent_logging\u001b[49m\u001b[38;5;241;43m=\u001b[39;49m\u001b[43mmeasurements\u001b[49m\u001b[43m,\u001b[49m\n\u001b[0;32m    114\u001b[0m \u001b[43m\u001b[49m\u001b[43m)\u001b[49m\n\u001b[0;32m    116\u001b[0m \u001b[38;5;28;01mreturn\u001b[39;00m agent, mem\n",
            "File \u001b[1;32mc:\\Users\\algar\\Documents\\Travail\\GitHub\\ConcordiaSims\\concordia\\agents\\entity_agent_with_logging.py:60\u001b[0m, in \u001b[0;36mEntityAgentWithLogging.__init__\u001b[1;34m(self, agent_name, act_component, context_processor, context_components, component_logging)\u001b[0m\n\u001b[0;32m     31\u001b[0m \u001b[38;5;28;01mdef\u001b[39;00m \u001b[38;5;21m__init__\u001b[39m(\n\u001b[0;32m     32\u001b[0m     \u001b[38;5;28mself\u001b[39m,\n\u001b[0;32m     33\u001b[0m     agent_name: \u001b[38;5;28mstr\u001b[39m,\n\u001b[1;32m   (...)\u001b[0m\n\u001b[0;32m     41\u001b[0m     component_logging: measurements_lib\u001b[38;5;241m.\u001b[39mMeasurements \u001b[38;5;241m|\u001b[39m \u001b[38;5;28;01mNone\u001b[39;00m \u001b[38;5;241m=\u001b[39m \u001b[38;5;28;01mNone\u001b[39;00m,\n\u001b[0;32m     42\u001b[0m ):\n\u001b[0;32m     43\u001b[0m \u001b[38;5;250m  \u001b[39m\u001b[38;5;124;03m\"\"\"Initializes the agent.\u001b[39;00m\n\u001b[0;32m     44\u001b[0m \n\u001b[0;32m     45\u001b[0m \u001b[38;5;124;03m  The passed components will be owned by this entity agent (i.e. their\u001b[39;00m\n\u001b[1;32m   (...)\u001b[0m\n\u001b[0;32m     58\u001b[0m \u001b[38;5;124;03m    component_logging: The channels where components publish events.\u001b[39;00m\n\u001b[0;32m     59\u001b[0m \u001b[38;5;124;03m  \"\"\"\u001b[39;00m\n\u001b[1;32m---> 60\u001b[0m   \u001b[38;5;28;43msuper\u001b[39;49m\u001b[43m(\u001b[49m\u001b[43m)\u001b[49m\u001b[38;5;241;43m.\u001b[39;49m\u001b[38;5;21;43m__init__\u001b[39;49m\u001b[43m(\u001b[49m\u001b[43magent_name\u001b[49m\u001b[38;5;241;43m=\u001b[39;49m\u001b[43magent_name\u001b[49m\u001b[43m,\u001b[49m\n\u001b[0;32m     61\u001b[0m \u001b[43m                   \u001b[49m\u001b[43mact_component\u001b[49m\u001b[38;5;241;43m=\u001b[39;49m\u001b[43mact_component\u001b[49m\u001b[43m,\u001b[49m\n\u001b[0;32m     62\u001b[0m \u001b[43m                   \u001b[49m\u001b[43mcontext_processor\u001b[49m\u001b[38;5;241;43m=\u001b[39;49m\u001b[43mcontext_processor\u001b[49m\u001b[43m,\u001b[49m\n\u001b[0;32m     63\u001b[0m \u001b[43m                   \u001b[49m\u001b[43mcontext_components\u001b[49m\u001b[38;5;241;43m=\u001b[39;49m\u001b[43mcontext_components\u001b[49m\u001b[43m)\u001b[49m\n\u001b[0;32m     64\u001b[0m   \u001b[38;5;28mself\u001b[39m\u001b[38;5;241m.\u001b[39m_log: Mapping[\u001b[38;5;28mstr\u001b[39m, Any] \u001b[38;5;241m=\u001b[39m {}\n\u001b[0;32m     65\u001b[0m   \u001b[38;5;28mself\u001b[39m\u001b[38;5;241m.\u001b[39m_tick \u001b[38;5;241m=\u001b[39m rx\u001b[38;5;241m.\u001b[39msubject\u001b[38;5;241m.\u001b[39mSubject()\n",
            "File \u001b[1;32mc:\\Users\\algar\\Documents\\Travail\\GitHub\\ConcordiaSims\\concordia\\agents\\entity_agent.py:70\u001b[0m, in \u001b[0;36mEntityAgent.__init__\u001b[1;34m(self, agent_name, act_component, context_processor, context_components)\u001b[0m\n\u001b[0;32m     68\u001b[0m \u001b[38;5;28mself\u001b[39m\u001b[38;5;241m.\u001b[39m_control_lock \u001b[38;5;241m=\u001b[39m threading\u001b[38;5;241m.\u001b[39mLock()\n\u001b[0;32m     69\u001b[0m \u001b[38;5;28mself\u001b[39m\u001b[38;5;241m.\u001b[39m_phase_lock \u001b[38;5;241m=\u001b[39m threading\u001b[38;5;241m.\u001b[39mLock()\n\u001b[1;32m---> 70\u001b[0m \u001b[38;5;28mself\u001b[39m\u001b[38;5;241m.\u001b[39m_phase \u001b[38;5;241m=\u001b[39m \u001b[43mentity_component\u001b[49m\u001b[38;5;241;43m.\u001b[39;49m\u001b[43mPhase\u001b[49m\u001b[38;5;241;43m.\u001b[39;49m\u001b[43mREADY\u001b[49m\n\u001b[0;32m     72\u001b[0m \u001b[38;5;28mself\u001b[39m\u001b[38;5;241m.\u001b[39m_act_component \u001b[38;5;241m=\u001b[39m act_component\n\u001b[0;32m     73\u001b[0m \u001b[38;5;28mself\u001b[39m\u001b[38;5;241m.\u001b[39m_act_component\u001b[38;5;241m.\u001b[39mset_entity(\u001b[38;5;28mself\u001b[39m)\n",
            "\u001b[1;31mAttributeError\u001b[0m: type object 'Phase' has no attribute 'READY'"
          ]
        }
      ],
      "source": [
        "NUM_PLAYERS = 5\n",
        "\n",
        "player_configs = player_configs[:NUM_PLAYERS]\n",
        "player_goals = {\n",
        "    player_config.name: player_config.goal for player_config in player_configs}\n",
        "players = []\n",
        "memories = {}\n",
        "measurements = measurements_lib.Measurements()\n",
        "\n",
        "player_names = [player.name for player in player_configs][:NUM_PLAYERS]\n",
        "with concurrent.futures.ThreadPoolExecutor(max_workers=NUM_PLAYERS) as pool:\n",
        "  for agent, mem in pool.map(build_a_citizen,\n",
        "                             player_configs[:NUM_PLAYERS],\n",
        "                             # All players get the same `player_names`.\n",
        "                             [player_names] * NUM_PLAYERS,\n",
        "                             # All players get the same `measurements` object.\n",
        "                             [measurements] * NUM_PLAYERS):\n",
        "    players.append(agent)\n",
        "    memories[agent.name] = mem"
      ]
    },
    {
      "cell_type": "markdown",
      "metadata": {
        "id": "2vt8ggYUrW8M"
      },
      "source": [
        "## Build GM"
      ]
    },
    {
      "cell_type": "code",
      "execution_count": null,
      "metadata": {
        "id": "TpkrgkwAuK4Q"
      },
      "outputs": [],
      "source": [
        "# @title Define the election component\n",
        "\n",
        "class Elections(component.Component):\n",
        "  \"\"\"Tracks elections.\"\"\"\n",
        "\n",
        "  def __init__(\n",
        "      self,\n",
        "      model: language_model.LanguageModel,\n",
        "      memory: associative_memory.AssociativeMemory,\n",
        "      voters: Sequence[entity_agent.EntityAgent],\n",
        "      candidates: Sequence[str],\n",
        "      clock_now: Callable[[], datetime.datetime],\n",
        "      verbose: bool = False,\n",
        "      measurements: measurements_lib.Measurements | None = None,\n",
        "      channel: str = 'election',\n",
        "  ):\n",
        "    \"\"\"Initializes the election tracker.\n",
        "\n",
        "    Args:\n",
        "      model: The language model to use.\n",
        "      memory: The memory to use.\n",
        "      voters: The agent voters.\n",
        "      candidates: The candidates in the election.\n",
        "      clock_now: Function to call to get current time. Used for logging.\n",
        "      verbose: Whether to print verbose messages.\n",
        "      measurements: Optional object to publish data from the elections.\n",
        "      channel: Channel in measurements to publish to.\n",
        "    \"\"\"\n",
        "    self._model = model\n",
        "    self._memory = memory\n",
        "    self._voters = voters\n",
        "    self._candidates = candidates\n",
        "    self._clock_now = clock_now\n",
        "    self._verbose = verbose\n",
        "    self._measurements = measurements\n",
        "    self._channel = channel\n",
        "\n",
        "    self._voter_names = [voter.name for voter in self._voters]\n",
        "    self._vote_count = {candidate: 0 for candidate in self._candidates}\n",
        "    self._citizens_who_already_voted = set()\n",
        "\n",
        "    self._voter_by_name = {voter.name: voter for voter in self._voters}\n",
        "    self._state = 'Polls are not open yet.'\n",
        "    self._partial_states = None\n",
        "    self._history = []\n",
        "\n",
        "    self._polls_open = False\n",
        "    self._winner_declared = False\n",
        "    self._timestep = 0\n",
        "\n",
        "  def get_last_log(self):\n",
        "    if self._history:\n",
        "      return self._history[-1].copy()\n",
        "\n",
        "  def get_history(self):\n",
        "    return self._history.copy()\n",
        "\n",
        "  def open_polls(self) -> None:\n",
        "    self._polls_open = True\n",
        "    self._state = 'Polls are open, voting in progress.'\n",
        "\n",
        "  def declare_winner(self) -> None:\n",
        "    if not self._winner_declared:\n",
        "      self._winner_declared = True\n",
        "      self._polls_open = False\n",
        "      winner = max(self._vote_count, key=self._vote_count.get)\n",
        "      self._state = f'Polls are closed. {winner} won the election.'\n",
        "      if self._verbose:\n",
        "        print(termcolor.colored('\\n' + self._state, 'red'), end='')\n",
        "\n",
        "      self._memory.add(self._state, tags=['election tracker'])\n",
        "\n",
        "  def name(self) -> str:\n",
        "    return 'State of election'\n",
        "\n",
        "  def state(self) -> str:\n",
        "    return self._state\n",
        "\n",
        "  def update(self) -> None:\n",
        "    pass\n",
        "\n",
        "  def get_vote_count(self) -> dict[str, int]:\n",
        "    return self._vote_count\n",
        "\n",
        "  def partial_state(\n",
        "      self,\n",
        "      player_name: str,\n",
        "  ) -> str:\n",
        "    \"\"\"Return a player-specific view of the construct's state.\"\"\"\n",
        "    return self._state\n",
        "\n",
        "  def update_after_event(\n",
        "      self,\n",
        "      event_statement: str,\n",
        "  ) -> None:\n",
        "    if not self._polls_open:\n",
        "      update_log = {\n",
        "          'date': self._clock_now(),\n",
        "          'Summary': 'Polls are not open.',\n",
        "          'Vote count': str(self._vote_count),\n",
        "      }\n",
        "      self._history.append(update_log)\n",
        "      return\n",
        "\n",
        "    chain_of_thought = interactive_document.InteractiveDocument(self._model)\n",
        "    chain_of_thought.statement(event_statement)\n",
        "    chain_of_thought.statement(f'List of citizens: {self._voter_names}')\n",
        "    active_voter_id = chain_of_thought.multiple_choice_question(\n",
        "        question='In the above transcript, which citizen took an action?',\n",
        "        answers=self._voter_names,\n",
        "    )\n",
        "    vote = None\n",
        "    active_voter = self._voter_names[active_voter_id]\n",
        "    if active_voter not in self._citizens_who_already_voted:\n",
        "      did_vote = chain_of_thought.yes_no_question(\n",
        "          question=f'Did {active_voter} vote in the above transcript?'\n",
        "      )\n",
        "      if did_vote:\n",
        "        question = (\n",
        "            f'Current activity: {event_statement}.\\nGiven the above, who whould'\n",
        "            f' {active_voter} vote for?'\n",
        "        )\n",
        "        action_spec = agent_lib.ActionSpec(\n",
        "            call_to_action=question,\n",
        "            output_type='CHOICE',\n",
        "            options=self._candidates,\n",
        "            tag='vote',\n",
        "        )\n",
        "        vote = self._voter_by_name[active_voter].act(action_spec)\n",
        "        action_spec.validate(vote)\n",
        "\n",
        "        self._vote_count[vote] += 1\n",
        "        self._citizens_who_already_voted.add(active_voter)\n",
        "        self._memory.add(\n",
        "            f'{active_voter} voted for {vote}', tags=['election tracker']\n",
        "        )\n",
        "        if self._verbose:\n",
        "          print(\n",
        "              termcolor.colored(\n",
        "                  f'\\n {active_voter} voted for {vote}\\n', 'magenta'\n",
        "              )\n",
        "          )\n",
        "      else:\n",
        "        if self._verbose:\n",
        "          print(\n",
        "              termcolor.colored(\n",
        "                  f'\\n {active_voter} did not vote in the transcript.\\n',\n",
        "                  'magenta',\n",
        "              )\n",
        "          )\n",
        "    else:\n",
        "      chain_of_thought.statement(f'{active_voter} already voted.')\n",
        "\n",
        "    update_log = {\n",
        "        'date': self._clock_now(),\n",
        "        'Summary': str(self._vote_count),\n",
        "        'Vote count': str(self._vote_count),\n",
        "        'Chain of thought': {\n",
        "            'Summary': 'Election tracker chain of thought',\n",
        "            'Chain': chain_of_thought.view().text().splitlines(),\n",
        "        },\n",
        "    }\n",
        "    self._history.append(update_log)\n",
        "\n",
        "    if self._verbose:\n",
        "      print(\n",
        "          termcolor.colored(\n",
        "              f'{self._vote_count}\\n' + chain_of_thought.view().text(),\n",
        "              'magenta',\n",
        "          )\n",
        "      )\n",
        "\n",
        "    if self._measurements is not None and vote is not None:\n",
        "      answer = self._vote_count[vote]\n",
        "      answer_str = str(answer)\n",
        "      datum = {\n",
        "          'time_str': self._clock_now().strftime('%H:%M:%S'),\n",
        "          'timestep': self._timestep,\n",
        "          'value_float': answer,\n",
        "          'value_str': answer_str,\n",
        "          'player': vote,\n",
        "      }\n",
        "      self._measurements.publish_datum(channel=self._channel, datum=datum)\n",
        "      self._timestep += 1"
      ]
    },
    {
      "cell_type": "code",
      "execution_count": null,
      "metadata": {
        "id": "3W65kHOKQwrv"
      },
      "outputs": [],
      "source": [
        "# @title Create game master memory\n",
        "game_master_memory = associative_memory.AssociativeMemory(\n",
        "    embedder, importance_model_gm.importance, clock=clock.now)"
      ]
    },
    {
      "cell_type": "code",
      "execution_count": null,
      "metadata": {
        "id": "bGNY_D7FID4I"
      },
      "outputs": [],
      "source": [
        "# @title Initialize game master memories\n",
        "for player in players:\n",
        "  game_master_memory.add(f'{player.name} is at their private home.')"
      ]
    },
    {
      "cell_type": "code",
      "execution_count": null,
      "metadata": {
        "id": "-cxivChc633z"
      },
      "outputs": [],
      "source": [
        "# @title Create components and externalities\n",
        "player_names = [player.name for player in players]\n",
        "\n",
        "facts_on_village = components.constant.ConstantComponent(\n",
        "    ' '.join(shared_memories), 'General knowledge of Riverbend')\n",
        "player_status = gm_components.player_status.PlayerStatus(\n",
        "    clock.now, model, game_master_memory, player_names)\n",
        "\n",
        "relevant_events = gm_components.relevant_events.RelevantEvents(\n",
        "    clock.now, model, game_master_memory)\n",
        "time_display = gm_components.time_display.TimeDisplay(clock)\n",
        "\n",
        "election_externality = Elections(\n",
        "    model=model,\n",
        "    clock_now=clock.now,\n",
        "    memory=game_master_memory,\n",
        "    voters=players,\n",
        "    candidates=['Alice', 'Bob'],\n",
        "    verbose=True,\n",
        "    measurements=measurements,\n",
        ")\n",
        "\n",
        "mem_factory = blank_memories.MemoryFactory(\n",
        "    model,\n",
        "    embedder,\n",
        "    importance_model_gm.importance,\n",
        "    clock_now=clock.now,\n",
        ")\n",
        "\n",
        "convo_externality = gm_components.conversation.Conversation(\n",
        "    players=players,\n",
        "    model=model,\n",
        "    memory=game_master_memory,\n",
        "    clock=clock,\n",
        "    burner_memory_factory=mem_factory,\n",
        "    components=[player_status],\n",
        "    cap_nonplayer_characters=2,\n",
        "    shared_context=shared_context,\n",
        "    verbose=True,\n",
        ")\n",
        "\n",
        "direct_effect_externality = gm_components.direct_effect.DirectEffect(\n",
        "    players,\n",
        "    model=model,\n",
        "    memory=game_master_memory,\n",
        "    clock_now=clock.now,\n",
        "    verbose=False,\n",
        "    components=[player_status]\n",
        ")\n",
        "\n",
        "TIME_POLLS_OPEN = datetime.datetime(hour=14, year=2024, month=10, day=1)\n",
        "TIME_POLLS_CLOSE = datetime.datetime(hour=20, year=2024, month=10, day=1)\n",
        "schedule = {\n",
        "    'start': gm_components.schedule.EventData(\n",
        "        time=START_TIME,\n",
        "        description='',\n",
        "    ),\n",
        "    'election': gm_components.schedule.EventData(\n",
        "        time=datetime.datetime(hour=13, year=2024, month=10, day=1),\n",
        "        description=(\n",
        "            'The town of Riverbend is now holding an election to determine ' +\n",
        "            'who will become the mayor. ' +\n",
        "            f'Polls will open at {TIME_POLLS_OPEN}.'),\n",
        "    ),\n",
        "    'election_polls_open': gm_components.schedule.EventData(\n",
        "        time=TIME_POLLS_OPEN,\n",
        "        description=(\n",
        "            'The election is happening now. Polls are open. Everyone may ' +\n",
        "            'go to a polling place and cast their vote. ' +\n",
        "            f'Polls will close at {TIME_POLLS_CLOSE}.'),\n",
        "        trigger=election_externality.open_polls,\n",
        "    ),\n",
        "    'election_polls_close': gm_components.schedule.EventData(\n",
        "        time=TIME_POLLS_CLOSE,\n",
        "        description=(\n",
        "            'The election is over. Polls are now closed. The results will ' +\n",
        "            'now be tallied and a winner declared.'),\n",
        "        trigger=election_externality.declare_winner,\n",
        "    )\n",
        "}\n",
        "\n",
        "schedule_construct = gm_components.schedule.Schedule(\n",
        "    clock_now=clock.now, schedule=schedule)\n"
      ]
    },
    {
      "cell_type": "code",
      "execution_count": null,
      "metadata": {
        "id": "d_R2BVNOsAwa"
      },
      "outputs": [],
      "source": [
        "# @title Create the game master object\n",
        "env = game_master.GameMaster(\n",
        "    model=model,\n",
        "    memory=game_master_memory,\n",
        "    clock=clock,\n",
        "    players=players,\n",
        "    components=[\n",
        "        facts_on_village,\n",
        "        player_status,\n",
        "        schedule_construct,\n",
        "        election_externality,\n",
        "        convo_externality,\n",
        "        direct_effect_externality,\n",
        "        relevant_events,\n",
        "        time_display,\n",
        "    ],\n",
        "    randomise_initiative=True,\n",
        "    player_observes_event=False,\n",
        "    verbose=True,\n",
        ")"
      ]
    },
    {
      "cell_type": "markdown",
      "metadata": {
        "id": "d2u0bQ1MSCGd"
      },
      "source": [
        "## The RUN"
      ]
    },
    {
      "cell_type": "code",
      "execution_count": null,
      "metadata": {
        "id": "hdTRDaxEZZnN"
      },
      "outputs": [],
      "source": [
        "clock.set(START_TIME)"
      ]
    },
    {
      "cell_type": "code",
      "execution_count": null,
      "metadata": {
        "id": "9IggLF1aH_hF"
      },
      "outputs": [],
      "source": [
        "for player in players:\n",
        "  player.observe(\n",
        "      f'{player.name} is at home, they have just woken up. Mayoral elections '\n",
        "      f'are going to be held today. Polls will open at {TIME_POLLS_OPEN} and '\n",
        "      f'close at {TIME_POLLS_CLOSE}.'\n",
        "  )"
      ]
    },
    {
      "cell_type": "code",
      "execution_count": null,
      "metadata": {
        "id": "2Bt87stq76gF"
      },
      "outputs": [],
      "source": [
        "# @title Expect about 2-3 minutes per step.\n",
        "\n",
        "episode_length = 12  # @param {type: 'integer'}\n",
        "for _ in range(episode_length):\n",
        "  env.step()\n"
      ]
    },
    {
      "cell_type": "code",
      "execution_count": null,
      "metadata": {
        "id": "tOiYxi0CoWJK"
      },
      "outputs": [],
      "source": [
        "# @title Metrics plotting\n",
        "\n",
        "group_by = collections.defaultdict(lambda: 'player')\n",
        "\n",
        "# available_channels = list(measurements.available_channels())\n",
        "available_channels = ['RationalityMetric', 'CommonSenseMorality']\n",
        "\n",
        "fig, ax = plt.subplots(1, len(available_channels), figsize=(6, 2))\n",
        "tb = [channel for channel in available_channels]\n",
        "for idx, channel in enumerate(available_channels):\n",
        "  plotting.plot_line_measurement_channel(measurements, channel,\n",
        "                                         group_by=group_by[channel],\n",
        "                                         xaxis='time_str',\n",
        "                                         ax=ax[idx])\n",
        "  ax[idx].set_title(channel)\n",
        "\n",
        "fig.set_constrained_layout(constrained=True)"
      ]
    },
    {
      "cell_type": "markdown",
      "metadata": {
        "id": "DnwvpvQ4bnFs"
      },
      "source": [
        "## Summary and analysis of the episode"
      ]
    },
    {
      "cell_type": "code",
      "execution_count": null,
      "metadata": {
        "id": "O4jp0xGXvOAJ"
      },
      "outputs": [],
      "source": [
        "# @title Summarize the entire story.\n",
        "all_gm_memories = env._memory.retrieve_recent(k=10000, add_time=True)\n",
        "\n",
        "detailed_story = '\\n'.join(all_gm_memories)\n",
        "print('len(detailed_story): ', len(detailed_story))\n",
        "# print(detailed_story)\n",
        "\n",
        "episode_summary = model.sample_text(\n",
        "    f'Sequence of events:\\n{detailed_story}'+\n",
        "    '\\nNarratively summarize the above temporally ordered ' +\n",
        "    'sequence of events. Write it as a news report. Summary:\\n',\n",
        "     max_tokens=3500, terminators=())\n",
        "print(episode_summary)"
      ]
    },
    {
      "cell_type": "code",
      "execution_count": null,
      "metadata": {
        "id": "ALG987t-6j-V"
      },
      "outputs": [],
      "source": [
        "# @title Summarise the perspective of each player\n",
        "player_logs = []\n",
        "player_log_names = []\n",
        "for player in players:\n",
        "  name = player.name\n",
        "  detailed_story = '\\n'.join(memories[player.name].retrieve_recent(\n",
        "      k=1000, add_time=True))\n",
        "  summary = ''\n",
        "  summary = model.sample_text(\n",
        "      f'Sequence of events that happened to {name}:\\n{detailed_story}'\n",
        "      '\\nWrite a short story that summarises these events.\\n'\n",
        "      ,\n",
        "       max_tokens=3500, terminators=())\n",
        "\n",
        "  all_player_mem = memories[player.name].retrieve_recent(k=1000, add_time=True)\n",
        "  all_player_mem = ['Summary:', summary, 'Memories:'] + all_player_mem\n",
        "  player_html = html_lib.PythonObjectToHTMLConverter(all_player_mem).convert()\n",
        "  player_logs.append(player_html)\n",
        "  player_log_names.append(f'{name}')\n"
      ]
    },
    {
      "cell_type": "markdown",
      "metadata": {
        "id": "UmPOvjVxddye"
      },
      "source": [
        "#Build and display HTML log of the experiment"
      ]
    },
    {
      "cell_type": "code",
      "execution_count": null,
      "metadata": {
        "id": "JyEoGgI05xI0"
      },
      "outputs": [],
      "source": [
        "history_sources = [\n",
        "    env,\n",
        "    direct_effect_externality,\n",
        "    convo_externality,\n",
        "    election_externality,\n",
        "]\n",
        "histories_html = [\n",
        "    html_lib.PythonObjectToHTMLConverter(history.get_history()).convert()\n",
        "    for history in history_sources]\n",
        "histories_names = [history.name for history in history_sources]"
      ]
    },
    {
      "cell_type": "code",
      "execution_count": null,
      "metadata": {
        "id": "XNJuo4Dwt5Ui"
      },
      "outputs": [],
      "source": [
        "gm_mem_html = html_lib.PythonObjectToHTMLConverter(all_gm_memories).convert()\n",
        "\n",
        "tabbed_html = html_lib.combine_html_pages(\n",
        "    histories_html + [gm_mem_html] + player_logs,\n",
        "    histories_names + ['GM'] + player_log_names,\n",
        "    summary=episode_summary,\n",
        "    title='Riverbend elections experiment',\n",
        ")\n",
        "\n",
        "tabbed_html = html_lib.finalise_html(tabbed_html)"
      ]
    },
    {
      "cell_type": "code",
      "execution_count": null,
      "metadata": {
        "id": "pumxvmrzANOq"
      },
      "outputs": [],
      "source": [
        "display.HTML(tabbed_html)"
      ]
    },
    {
      "cell_type": "markdown",
      "metadata": {
        "id": "HX-M9Im_dneG"
      },
      "source": [
        "#Interact with a specific player"
      ]
    },
    {
      "cell_type": "code",
      "execution_count": null,
      "metadata": {
        "id": "ESJ1l7_Kt5Uj"
      },
      "outputs": [],
      "source": [
        "sim_to_interact = 'Alice'  # @param ['Alice', 'Bob','Charlie', 'Dorothy', 'Ellen'] {type:\"string\"}\n",
        "user_identity = 'a close friend'  # @param {type:\"string\"}\n",
        "interaction_premise = f'{sim_to_interact} is talking to {user_identity}\\n'  # @param {type:\"string\"}\n",
        "\n",
        "player_names = [player.name for player in players]\n",
        "player_by_name = {player.name: player for player in players}\n",
        "selected_player = player_by_name[sim_to_interact]\n",
        "interrogation = interaction_premise"
      ]
    },
    {
      "cell_type": "code",
      "execution_count": null,
      "metadata": {
        "id": "5Q1cYflLt5Uj"
      },
      "outputs": [],
      "source": [
        "utterence_from_user = 'Did you win the election?'  # @param {type:\"string\"}\n",
        "\n",
        "interrogation += f'{user_identity}: {utterence_from_user}'\n",
        "agent.observe(interrogation)\n",
        "player_says = agent.act(action_spec=agent_lib.DEFAULT_SPEECH_ACTION_SPEC)\n",
        "interrogation += f'\\n{sim_to_interact}: {player_says}\\n'\n",
        "print(interrogation)"
      ]
    },
    {
      "cell_type": "markdown",
      "metadata": {
        "id": "vUsEorim6C5y"
      },
      "source": [
        "```\n",
        "Copyright 2023 DeepMind Technologies Limited.\n",
        "\n",
        "Licensed under the Apache License, Version 2.0 (the \"License\");\n",
        "you may not use this file except in compliance with the License.\n",
        "You may obtain a copy of the License at\n",
        "\n",
        "    https://www.apache.org/licenses/LICENSE-2.0\n",
        "\n",
        "Unless required by applicable law or agreed to in writing, software\n",
        "distributed under the License is distributed on an \"AS IS\" BASIS,\n",
        "WITHOUT WARRANTIES OR CONDITIONS OF ANY KIND, either express or implied.\n",
        "See the License for the specific language governing permissions and\n",
        "limitations under the License.\n",
        "```"
      ]
    }
  ],
  "metadata": {
    "colab": {
      "private_outputs": true,
      "provenance": [],
      "toc_visible": true
    },
    "kernelspec": {
      "display_name": "Python 3",
      "name": "python3"
    },
    "language_info": {
      "codemirror_mode": {
        "name": "ipython",
        "version": 3
      },
      "file_extension": ".py",
      "mimetype": "text/x-python",
      "name": "python",
      "nbconvert_exporter": "python",
      "pygments_lexer": "ipython3",
      "version": "3.12.4"
    }
  },
  "nbformat": 4,
  "nbformat_minor": 0
}
