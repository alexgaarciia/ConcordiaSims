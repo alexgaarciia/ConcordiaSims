{
  "cells": [
    {
      "cell_type": "markdown",
      "metadata": {
        "id": "zWgEkOAO9OVz"
      },
      "source": [
        "# Disinformation\n",
        "\n",
        "An example where an individual spreads a fake news among others and they discuss whether it is true or not, as well as some methods of preventing the spread of these."
      ]
    },
    {
      "cell_type": "markdown",
      "metadata": {
        "id": "jadeu-zIkL_s"
      },
      "source": [
        "## Setup"
      ]
    },
    {
      "cell_type": "markdown",
      "source": [
        "### Import libraries"
      ],
      "metadata": {
        "id": "lLAP7E4mYyqg"
      }
    },
    {
      "cell_type": "code",
      "execution_count": null,
      "metadata": {
        "id": "QC-Ypcv7dbJr",
        "collapsed": true
      },
      "outputs": [],
      "source": [
        "!pip install --ignore-requires-python git+https://github.com/google-deepmind/concordia.git"
      ]
    },
    {
      "cell_type": "code",
      "execution_count": null,
      "metadata": {
        "id": "-fmBHd6Wdc6H",
        "collapsed": true
      },
      "outputs": [],
      "source": [
        "!pip install -r https://raw.githubusercontent.com/google-deepmind/concordia/main/examples/requirements.txt"
      ]
    },
    {
      "cell_type": "code",
      "execution_count": null,
      "metadata": {
        "id": "-qLG5ExLqpWa",
        "collapsed": true
      },
      "outputs": [],
      "source": [
        "import os\n",
        "import random\n",
        "import datetime\n",
        "import numpy as np\n",
        "import concurrent.futures\n",
        "import sentence_transformers\n",
        "\n",
        "from typing import Callable\n",
        "from IPython import display\n",
        "\n",
        "from concordia.clocks import game_clock\n",
        "from concordia.agents import basic_agent\n",
        "from concordia.utils import html as html_lib\n",
        "from concordia.environment import game_master\n",
        "from concordia.language_model import gpt_model\n",
        "from concordia.language_model import mistral_model\n",
        "from concordia.document import interactive_document\n",
        "from concordia import components as generic_components\n",
        "from concordia.associative_memory import blank_memories\n",
        "from concordia.components import agent as agent_components\n",
        "from concordia.factory.environment import basic_game_master\n",
        "from concordia.associative_memory import associative_memory\n",
        "from concordia.associative_memory import formative_memories\n",
        "from concordia.associative_memory import importance_function\n",
        "from concordia.utils import measurements as measurements_lib\n",
        "from concordia.components import game_master as gm_components\n",
        "from concordia.thought_chains import thought_chains as thought_chains_lib\n",
        "from concordia.environment.scenes import conversation as conversation_scene"
      ]
    },
    {
      "cell_type": "markdown",
      "metadata": {
        "id": "vijuHCp7Ypxd"
      },
      "source": [
        "### Language Model Initialization"
      ]
    },
    {
      "cell_type": "code",
      "execution_count": null,
      "metadata": {
        "id": "mFRr48R7b3QB"
      },
      "outputs": [],
      "source": [
        "mistral_api_key = ''\n",
        "if not mistral_api_key:\n",
        "      raise ValueError('Mistral api_key is required.')\n",
        "model = mistral_model.MistralLanguageModel(api_key=mistral_api_key,\n",
        "                                           model_name='codestral-latest')"
      ]
    },
    {
      "cell_type": "markdown",
      "metadata": {
        "id": "55QorImHYpxe"
      },
      "source": [
        "### Sentence Encoder Setup\n"
      ]
    },
    {
      "cell_type": "code",
      "execution_count": null,
      "metadata": {
        "id": "I3OtW8flCJSC",
        "collapsed": true
      },
      "outputs": [],
      "source": [
        "st_model = sentence_transformers.SentenceTransformer(\n",
        "    'sentence-transformers/all-mpnet-base-v2')\n",
        "embedder = lambda x: st_model.encode(x, show_progress_bar=False)"
      ]
    },
    {
      "cell_type": "markdown",
      "metadata": {
        "id": "z9HYjZgyakc_"
      },
      "source": [
        "## Configuring the generic knowledge of players and GM"
      ]
    },
    {
      "cell_type": "markdown",
      "source": [
        "### Define the premise, subgoal (agents' goal), goal, and context"
      ],
      "metadata": {
        "id": "cKBLCvT2anME"
      }
    },
    {
      "cell_type": "code",
      "execution_count": null,
      "metadata": {
        "id": "1Da51MphYY23"
      },
      "outputs": [],
      "source": [
        "PROJECT_PREMISE = (\n",
        "    ' The study of disinformation and its rapid spread poses new challenges'\n",
        "    ' beyond the established conventions of traditional media studies. Unlike'\n",
        "    ' misinformation, disinformation involves the intentional spread of false'\n",
        "    ' or misleading information to manipulate. Understanding how fake news'\n",
        "    ' spreads and evaluating the effectiveness of various strategies to prevent'\n",
        "    ' its spread is crucial in today´s information landscape.'\n",
        ")\n",
        "\n",
        "PROJECT_SUBGOAL = (\n",
        "    ' Discuss the veracity of the information you receive. Evaluate and share your thoughts on '\n",
        "    ' whether the news might be true or false, and explain your reasoning. Consider the source, '\n",
        "    ' your own knowledge, and any available verification tools. '\n",
        ")\n",
        "\n",
        "PROJECT_GOAL = (\n",
        "    ' An agent introduces a piece of fake news and you need to observe its spread. '\n",
        "    ' Observe the effect it has on each character and assess the effectiveness '\n",
        "    ' of different strategies and tools used to prevent the spread of fake news,'\n",
        "    ' providing insights into which methods are most successful.'\n",
        ")\n",
        "\n",
        "PROJECT_CONTEXT = (\n",
        "    ' A group of friends is having a casual conversation when one of them suddenly '\n",
        "    ' shares a surprising piece of news. The friends then discuss whether the news '\n",
        "    ' is true or false, evaluating the information based on their knowledge, the '\n",
        "    ' credibility of the source, and any verification tools they have. This setting '\n",
        "    ' provides a realistic scenario for observing the spread of fake news and testing '\n",
        "    ' strategies to prevent it.'\n",
        ")"
      ]
    },
    {
      "cell_type": "code",
      "execution_count": null,
      "metadata": {
        "id": "rOaCcfgvk-yE"
      },
      "outputs": [],
      "source": [
        "agent_goal = PROJECT_SUBGOAL"
      ]
    },
    {
      "cell_type": "markdown",
      "source": [
        "### Generic memories are memories that all players and GM share."
      ],
      "metadata": {
        "id": "UNFf0JakawLE"
      }
    },
    {
      "cell_type": "code",
      "execution_count": null,
      "metadata": {
        "id": "b8vWoQ6by51N"
      },
      "outputs": [],
      "source": [
        "simulation_premise_component = generic_components.constant.ConstantComponent(\n",
        "    state=PROJECT_CONTEXT,\n",
        "    name='The context of the current situation',\n",
        ")\n",
        "\n",
        "importance_model = importance_function.ConstantImportanceModel()\n",
        "importance_model_gm = importance_function.ConstantImportanceModel()"
      ]
    },
    {
      "cell_type": "markdown",
      "source": [
        "### Make the clock"
      ],
      "metadata": {
        "id": "LztBoxhZa4_f"
      }
    },
    {
      "cell_type": "code",
      "execution_count": null,
      "metadata": {
        "id": "TeVYseoD2WYa"
      },
      "outputs": [],
      "source": [
        "UPDATE_INTERVAL = datetime.timedelta(seconds=10)\n",
        "\n",
        "SETUP_TIME = datetime.datetime(hour=8, year=2024, month=6, day=1)\n",
        "\n",
        "START_TIME = datetime.datetime(hour=14, year=2024, month=7, day=1)\n",
        "clock = game_clock.MultiIntervalClock(\n",
        "    start=SETUP_TIME,\n",
        "    step_sizes=[UPDATE_INTERVAL, datetime.timedelta(seconds=10)])\n",
        "\n",
        "NUM_ROUNDS = 3"
      ]
    },
    {
      "cell_type": "markdown",
      "metadata": {
        "id": "YBCXUQ8sayzj"
      },
      "source": [
        "## Functions to build the agents"
      ]
    },
    {
      "cell_type": "code",
      "execution_count": null,
      "metadata": {
        "id": "JysvgpA-8n1q"
      },
      "outputs": [],
      "source": [
        "blank_memory_factory = blank_memories.MemoryFactory(\n",
        "    model=model,\n",
        "    embedder=embedder,\n",
        "    importance=importance_model.importance,\n",
        "    clock_now=clock.now,\n",
        ")"
      ]
    },
    {
      "cell_type": "code",
      "execution_count": null,
      "metadata": {
        "id": "8UhdvLiVw7gf"
      },
      "outputs": [],
      "source": [
        "from collections.abc import Sequence\n",
        "from typing import Any\n",
        "import dataclasses\n",
        "\n",
        "@dataclasses.dataclass(frozen=True, kw_only=True)\n",
        "class AgentConfig:\n",
        "  \"\"\"A card that describes a player.\n",
        "\n",
        "  Attributes:\n",
        "    name: name of the agent.\n",
        "    gender: the gender of the agent.\n",
        "    traits: any traits to use while generating formative memories.\n",
        "    political_ideology: the set of beliefs about political values and the role of government that influence the agent's behavior and decisions.\n",
        "    biography: a description of the agent.\n",
        "    context: agent formative memories will be generated with this context\n",
        "    specific_memories: inject these specific memories. Split memories at newline\n",
        "      characters. Can be left blank if not used.\n",
        "    goal: defines agents goal. Can be left blank if not used.\n",
        "  \"\"\"\n",
        "\n",
        "  name: str\n",
        "  gender: str\n",
        "  traits: str\n",
        "  political_ideology: str\n",
        "  biography: str = ''\n",
        "  goal: str = ''\n",
        "  selected_works : Sequence[str]\n",
        "\n",
        "def specific_memories_from_selected_works(player_config: AgentConfig) -> str:\n",
        "  \"\"\"Create memories per player using their role as moderator or debater.\"\"\"\n",
        "  specific_memories = []\n",
        "  player_name = player_config.name\n",
        "  for work in player_config.selected_works:\n",
        "    specific_memories += [(\n",
        "        f'[writing] of {player_name}: \"{work}\"')]\n",
        "    idea = model.sample_text(\n",
        "        (f'Consider the paper summarised here: \"{work}\". Without repeating '\n",
        "         'the title, a two sentence TLDR of its most important and distinctive '\n",
        "         'idea is that '),\n",
        "        terminators=('\\n',))\n",
        "    specific_memories += [(\n",
        "        f'[idea] of {player_name}: {idea}')]\n",
        "    print(f'idea: {idea}.')\n",
        "\n",
        "  return specific_memories"
      ]
    },
    {
      "cell_type": "code",
      "execution_count": null,
      "metadata": {
        "id": "2gSHOPX9HTFS"
      },
      "outputs": [],
      "source": [
        "def cat_with_dropout(inputs : list[str], dropout_rate: float = 0.2) -> str:\n",
        "  result = '\\n'.join([x for x in inputs if random.random() > dropout_rate])\n",
        "  return result\n",
        "\n",
        "class MindStream(agent_components.observation.Observation):\n",
        "  \"\"\"The MindStream class defines an observation component for an agent, retrieving and logging memories within a specific timeframe\"\"\"\n",
        "  def state(self):\n",
        "    mems = self._memory.retrieve_time_interval(\n",
        "        self._clock_now() - self._timeframe, self._clock_now(), add_time=True\n",
        "    )\n",
        "\n",
        "    if self._verbose:\n",
        "      self._log('\\n'.join(mems) + '\\n')\n",
        "    return '\\n'.join(mems) + '\\n'\n"
      ]
    },
    {
      "cell_type": "code",
      "execution_count": null,
      "metadata": {
        "id": "As465DbcsAwZ"
      },
      "outputs": [],
      "source": [
        "def build_agent(\n",
        "    agent_config,\n",
        "    unused_player_names: list[str],\n",
        "    unused_measurements: measurements_lib.Measurements | None = None,\n",
        "):\n",
        "  \"\"\"This function builds an agent using the provided configuration. It initializes the agent's memory,\n",
        "    biography, traits, observations, and other components, and then creates an instance of BasicAgent.\"\"\"\n",
        "\n",
        "  agent_name = agent_config.name\n",
        "  mem = blank_memory_factory.make_blank_memory()\n",
        "\n",
        "  memories_from_work = specific_memories_from_selected_works(agent_config)\n",
        "\n",
        "  for item in memories_from_work:\n",
        "    if item:\n",
        "      mem.add(item, importance=1.0)\n",
        "\n",
        "  bio = generic_components.constant.ConstantComponent(\n",
        "      state=agent_config.biography, name='biography'\n",
        "  )\n",
        "  time = generic_components.report_function.ReportFunction(\n",
        "      name='Current time',\n",
        "      function=clock.current_time_interval_str,\n",
        "  )\n",
        "  traits = generic_components.constant.ConstantComponent(\n",
        "      state=agent_config.traits, name='psychological traits'\n",
        "  )\n",
        "  political_ideology = generic_components.constant.ConstantComponent(\n",
        "      state=agent_config.political_ideology, name='political ideology'\n",
        "  )\n",
        "  current_obs = MindStream(\n",
        "      agent_name=agent_name,\n",
        "      clock_now=clock.now,\n",
        "      memory=mem,\n",
        "      timeframe=clock.get_step_size()*2,\n",
        "      component_name='current observations',\n",
        "  )\n",
        "\n",
        "  convo_so_far = generic_components.report_function.ReportFunction(\n",
        "      name='memory of the conversation',\n",
        "      function=lambda: cat_with_dropout(mem.retrieve_by_regex(' -- \"')),\n",
        "  )\n",
        "  ideas = generic_components.report_function.ReportFunction(\n",
        "      name='ideas',\n",
        "      function=lambda: cat_with_dropout(mem.retrieve_by_regex('\\[idea\\]')),\n",
        "  )\n",
        "  writing = generic_components.report_function.ReportFunction(\n",
        "      name='writings',\n",
        "      function=lambda: cat_with_dropout(mem.retrieve_by_regex('\\[writing\\]')),\n",
        "  )\n",
        "\n",
        "  # Setup the reflection component and its related components.\n",
        "  topic_of_debate = generic_components.report_function.ReportFunction(\n",
        "      name='Topic of the workshop', function=lambda: PROJECT_PREMISE\n",
        "  )\n",
        "  goal_of_debate = generic_components.report_function.ReportFunction(\n",
        "      name='Goal of the workshop', function=agent_goal\n",
        "  )\n",
        "  # The agent's subpersonal intuition contains a bias toward thinking that\n",
        "  # they themselves are the best.\n",
        "\n",
        "  reflection = agent_components.creative_reflection.CreativeReflection(\n",
        "      name='reflection',\n",
        "      model=model,\n",
        "      memory=mem,\n",
        "      agent_name=agent_name,\n",
        "      source_of_abstraction=[convo_so_far, writing, ideas],\n",
        "      topic_component = topic_of_debate,\n",
        "      clock_now=clock.now,\n",
        "      verbose=False,\n",
        "  )\n",
        "  all_components = [\n",
        "          bio,\n",
        "          traits,\n",
        "          political_ideology,\n",
        "          topic_of_debate,\n",
        "          goal_of_debate,\n",
        "          reflection,\n",
        "          current_obs]\n",
        "  agent = basic_agent.BasicAgent(\n",
        "      model,\n",
        "      agent_name=agent_name,\n",
        "      clock=clock,\n",
        "      components=[time] +  all_components,\n",
        "      update_interval=UPDATE_INTERVAL,\n",
        "  )\n",
        "\n",
        "  return agent, mem"
      ]
    },
    {
      "cell_type": "markdown",
      "metadata": {
        "id": "qt8CK2mMbD7q"
      },
      "source": [
        "## Configure and build the agents"
      ]
    },
    {
      "cell_type": "code",
      "execution_count": null,
      "metadata": {
        "id": "5RU3ZV4oIknW"
      },
      "outputs": [],
      "source": [
        "# Define a function to generate random traits for an agent\n",
        "TRAIT_LEVELS = [\"low\", \"medium\", \"high\"] # range of possible levels for traits\n",
        "\n",
        "def make_random_traits() -> str:\n",
        "  return str({\n",
        "      \"extraversion\": np.random.choice(TRAIT_LEVELS),\n",
        "      \"neuroticism\": np.random.choice(TRAIT_LEVELS),\n",
        "      \"openness\": np.random.choice(TRAIT_LEVELS),\n",
        "      \"conscientiousness\": np.random.choice(TRAIT_LEVELS),\n",
        "      \"agreeableness\": np.random.choice(TRAIT_LEVELS),\n",
        "      \"susceptibility\": np.random.choice(TRAIT_LEVELS),\n",
        "      \"critical thinking\": np.random.choice(TRAIT_LEVELS),\n",
        "  })\n",
        "\n",
        "\n",
        "# Create player configurations, each represented by an AgentConfig object\n",
        "player_configs = [\n",
        "    AgentConfig(\n",
        "        name=\"Alice Johnson\",\n",
        "        gender=\"female\",\n",
        "        traits=make_random_traits(),\n",
        "        political_ideology=\"liberal\",\n",
        "        biography=(\n",
        "            \"Alice Johnson, a political activist and community organizer, is known for her \"\n",
        "            \"advocacy on social justice and environmental issues. With a background in sociology, \"\n",
        "            \"Alice has spent years working with grassroots organizations to promote equality and \"\n",
        "            \"sustainable development. Her liberal views are deeply rooted in a belief in the power \"\n",
        "            \"of community action and progressive policies to drive change.\"\n",
        "        ),\n",
        "        selected_works=[\n",
        "            (\n",
        "                \"The Power of Community: A guide to grassroots organizing and the impact of collective action \"\n",
        "                \"on local and national politics. This work emphasizes the importance of community engagement and \"\n",
        "                \"advocacy in promoting social justice and environmental sustainability.\"\n",
        "            ),\n",
        "            (\n",
        "                \"Breaking the Chains: Exploring the intersection of social justice and environmental advocacy, \"\n",
        "                \"this book discusses the role of policy in addressing systemic inequalities and environmental degradation.\"\n",
        "            ),\n",
        "        ],\n",
        "    ),\n",
        "    AgentConfig(\n",
        "        name=\"David Smith\",\n",
        "        gender=\"male\",\n",
        "        traits=make_random_traits(),\n",
        "        political_ideology=\"conservative\",\n",
        "        biography=(\n",
        "            \"David Smith is a business executive and political commentator known for his conservative views. \"\n",
        "            \"With a career spanning over two decades in the corporate world, David emphasizes the importance \"\n",
        "            \"of free markets, personal responsibility, and limited government. His commentaries often critique \"\n",
        "            \"progressive policies, advocating instead for traditional values and economic conservatism.\"\n",
        "        ),\n",
        "        selected_works=[\n",
        "            (\n",
        "                \"The Free Market Solution: A comprehensive analysis of how free market principles can address \"\n",
        "                \"economic and social issues more effectively than government intervention. David argues for \"\n",
        "                \"reducing regulations and promoting entrepreneurship.\"\n",
        "            ),\n",
        "            (\n",
        "                \"Preserving Our Values: In this book, David explores the importance of maintaining traditional values \"\n",
        "                \"and cultural heritage in the face of modern challenges. He discusses the role of family, faith, and community \"\n",
        "                \"in fostering a stable and prosperous society.\"\n",
        "            ),\n",
        "        ],\n",
        "    ),\n",
        "    AgentConfig(\n",
        "        name=\"Emma Thompson\",\n",
        "        gender=\"female\",\n",
        "        traits=make_random_traits(),\n",
        "        political_ideology=\"moderate\",\n",
        "        biography=(\n",
        "            \"Emma Thompson, a journalist and independent political analyst, is known for her balanced and pragmatic approach \"\n",
        "            \"to political issues. Emma's work focuses on bridging the gap between polarized political ideologies, advocating for \"\n",
        "            \"policies that are practical and beneficial for the majority. Her moderate stance often emphasizes the need for \"\n",
        "            \"compromise and bipartisanship in policymaking.\"\n",
        "        ),\n",
        "        selected_works=[\n",
        "            (\n",
        "                \"Finding Common Ground: This book explores the art of compromise in politics, highlighting successful case studies \"\n",
        "                \"where bipartisan efforts have led to meaningful change. Emma discusses the importance of dialogue and understanding \"\n",
        "                \"in resolving political conflicts.\"\n",
        "            ),\n",
        "            (\n",
        "                \"The Pragmatic Approach: Emma provides an in-depth analysis of various political issues from a moderate perspective, \"\n",
        "                \"emphasizing solutions that are effective and realistic, rather than ideologically driven.\"\n",
        "            ),\n",
        "        ],\n",
        "    ),\n",
        "    AgentConfig(\n",
        "        name=\"Michael Chen\",\n",
        "        gender=\"male\",\n",
        "        traits=make_random_traits(),\n",
        "        political_ideology=\"libertarian\",\n",
        "        biography=(\n",
        "            \"Michael Chen is a technology entrepreneur and libertarian advocate who champions individual freedom and minimal government \"\n",
        "            \"intervention. With a background in software development and startups, Michael believes in the power of innovation and personal \"\n",
        "            \"initiative to drive societal progress. His libertarian views are reflected in his emphasis on privacy, free speech, and market \"\n",
        "            \"deregulation.\"\n",
        "        ),\n",
        "        selected_works=[\n",
        "            (\n",
        "                \"The Future of Innovation: Michael discusses how minimal government intervention and maximum personal freedom can spur technological \"\n",
        "                \"advancements and economic growth. He explores case studies of successful startups that thrived in deregulated environments.\"\n",
        "            ),\n",
        "            (\n",
        "                \"Freedom and Privacy: This work delves into the importance of protecting individual rights in the digital age. Michael examines the threats \"\n",
        "                \"to privacy and free speech posed by government surveillance and corporate control, advocating for robust protections and personal autonomy.\"\n",
        "            ),\n",
        "        ],\n",
        "    ),\n",
        "]"
      ]
    },
    {
      "cell_type": "code",
      "execution_count": null,
      "metadata": {
        "id": "PyFySEpmCHIC"
      },
      "outputs": [],
      "source": [
        "NUM_PLAYERS = len(player_configs)\n",
        "player_names = [player.name for player in player_configs][:NUM_PLAYERS]\n",
        "measurements = measurements_lib.Measurements()\n",
        "\n",
        "players = []\n",
        "memories = {}\n",
        "with concurrent.futures.ThreadPoolExecutor(max_workers=NUM_PLAYERS) as pool:\n",
        "  for agent, mem in pool.map(build_agent,\n",
        "                             player_configs[:NUM_PLAYERS],\n",
        "                             # All players get the same `player_names`.\n",
        "                             [player_names] * NUM_PLAYERS,\n",
        "                             # All players get the same `measurements` object.\n",
        "                             [measurements] * NUM_PLAYERS):\n",
        "    players.append(agent)\n",
        "    memories[agent.name] = mem"
      ]
    },
    {
      "cell_type": "markdown",
      "source": [
        "### Summarise the perspective of each player"
      ],
      "metadata": {
        "id": "oBp_-8OP1Crr"
      }
    },
    {
      "cell_type": "code",
      "execution_count": null,
      "metadata": {
        "id": "fxB2M54iiz0M",
        "collapsed": true
      },
      "outputs": [],
      "source": [
        "player_logs = []\n",
        "player_log_names = []\n",
        "for player in players:\n",
        "  name = player.name\n",
        "  detailed_story = '\\n'.join(memories[player.name].retrieve_recent(\n",
        "      k=1000, add_time=True))\n",
        "  summary = player.state().splitlines()\n",
        "\n",
        "  all_player_mem = memories[player.name].retrieve_recent(k=1000, add_time=True)\n",
        "  all_player_mem = ['Player state:', summary, 'Memories:'] + all_player_mem\n",
        "  player_html = html_lib.PythonObjectToHTMLConverter(all_player_mem).convert()\n",
        "  player_logs.append(player_html)\n",
        "  player_log_names.append(f'{name}')\n",
        "\n",
        "tabbed_html = html_lib.combine_html_pages(\n",
        "    player_logs,\n",
        "    player_log_names,\n",
        "    summary='',\n",
        "    title='Backstory of the players',\n",
        ")\n",
        "\n",
        "tabbed_html = html_lib.finalise_html(tabbed_html)\n",
        "display.HTML(tabbed_html)"
      ]
    },
    {
      "cell_type": "markdown",
      "metadata": {
        "id": "2vt8ggYUrW8M"
      },
      "source": [
        "## Build GM"
      ]
    },
    {
      "cell_type": "code",
      "execution_count": null,
      "metadata": {
        "id": "06p6Sk1GVq46"
      },
      "outputs": [],
      "source": [
        "call_to_speech = (\n",
        "    'Given the above, generate what {name} would say next? Take their '\n",
        "    'ideas and reflections and the goal of the workship into account. Respond '\n",
        "    'in the format `{name} -- \"...\"`'\n",
        ")"
      ]
    },
    {
      "cell_type": "code",
      "execution_count": null,
      "metadata": {
        "id": "gP6lcN_AIPPR"
      },
      "outputs": [],
      "source": [
        "clock.advance()\n",
        "\n",
        "debate_event = (\n",
        "    f'{players[0].name}, {players[1].name}, {players[2].name}, and {players[3].name} are in a'\n",
        "    f' workshop.\\n Their current goal is {agent_goal}.'\n",
        ")\n",
        "\n",
        "for player in players:\n",
        "  player.observe(debate_event)\n",
        "\n",
        "for player in players:\n",
        "  player.observe('It is time to for a discussion now')\n",
        "\n",
        "\n",
        "convo_scene = conversation_scene.make_conversation_game_master(\n",
        "    players,\n",
        "    clock=clock,\n",
        "    model=model,\n",
        "    memory_factory=blank_memory_factory,\n",
        "    name='Disinformation',\n",
        "    premise=debate_event,\n",
        "    call_to_speech=call_to_speech,\n",
        "    review_participants=True,\n",
        "    check_for_termination=False,\n",
        "    randomise_initiative=True,\n",
        ")\n",
        "with clock.higher_gear():\n",
        "  clock.advance()\n",
        "  output = convo_scene.run_episode(10)\n",
        "\n",
        "first_convo_html = html_lib.PythonObjectToHTMLConverter(\n",
        "    convo_scene.get_history()\n",
        ").convert()"
      ]
    },
    {
      "cell_type": "code",
      "execution_count": null,
      "metadata": {
        "id": "ql3eNvwiS8C3"
      },
      "outputs": [],
      "source": [
        "display.HTML(first_convo_html)"
      ]
    },
    {
      "cell_type": "code",
      "execution_count": null,
      "metadata": {
        "id": "qso4kVDwRoct"
      },
      "outputs": [],
      "source": [
        "essays = []\n",
        "for player in players:\n",
        "  prompt = interactive_document.InteractiveDocument(model)\n",
        "  prompt.statement(player.state())\n",
        "  agent_name = player.name\n",
        "  result = prompt.open_question(\n",
        "      'Generate an essay on the topic of the workshop from the perspective of'\n",
        "      f' {agent_name}. The goal of the essay is to summarise the conversation'\n",
        "      f' and {agent_goal}. Write in the style of {agent_name}, taking their'\n",
        "      ' ideas and reflections into account. Format the output as html',\n",
        "\n",
        "      max_tokens=5000,\n",
        "      terminators=(),\n",
        "  )\n",
        "  essays.append(result)\n",
        "\n",
        "tabbed_html = html_lib.combine_html_pages(\n",
        "    essays,\n",
        "    [player.name for player in players],\n",
        "    summary='',\n",
        "    title='First essays by participants',\n",
        ")\n",
        "\n",
        "first_essays_html = html_lib.finalise_html(tabbed_html)\n",
        "display.HTML(first_essays_html)"
      ]
    },
    {
      "cell_type": "markdown",
      "metadata": {
        "id": "HFgG5xlyYpxh"
      },
      "source": [
        "### Game Master Perspective"
      ]
    },
    {
      "cell_type": "code",
      "execution_count": null,
      "metadata": {
        "id": "qkwpeB4_1IFl"
      },
      "outputs": [],
      "source": [
        "game_master_memory = associative_memory.AssociativeMemory(\n",
        "    sentence_embedder=embedder,\n",
        "    importance=importance_model.importance,\n",
        "    clock=clock.now)\n",
        "primary_environment, game_master_memory = (\n",
        "    basic_game_master.build_game_master(\n",
        "        model=model,\n",
        "        embedder=embedder,\n",
        "        importance_model=importance_model_gm,\n",
        "        clock=clock,\n",
        "        players=players,\n",
        "        shared_memories=[f'{PROJECT_PREMISE}\\n{PROJECT_CONTEXT}'],\n",
        "        shared_context=f'{PROJECT_GOAL}',\n",
        "        blank_memory_factory=blank_memory_factory,\n",
        "        memory=game_master_memory,\n",
        "    )\n",
        ")"
      ]
    },
    {
      "cell_type": "code",
      "execution_count": null,
      "metadata": {
        "id": "ZMHojBanb3QF"
      },
      "outputs": [],
      "source": [
        "episode_length = 4  # @param {type: 'integer'}\n",
        "for _ in range(episode_length):\n",
        "  primary_environment.step()"
      ]
    },
    {
      "cell_type": "code",
      "execution_count": null,
      "metadata": {
        "id": "eJnxoWEEb3QF"
      },
      "outputs": [],
      "source": [
        "results_html = basic_game_master.create_html_log(\n",
        "    model=model,\n",
        "    primary_environment=primary_environment,\n",
        "    secondary_environments=[],\n",
        ")"
      ]
    },
    {
      "cell_type": "code",
      "execution_count": null,
      "metadata": {
        "id": "mDFeLjhOb3QF"
      },
      "outputs": [],
      "source": [
        "display.HTML(results_html)"
      ]
    }
  ],
  "metadata": {
    "colab": {
      "provenance": []
    },
    "kernelspec": {
      "display_name": "Python 3",
      "name": "python3"
    },
    "language_info": {
      "codemirror_mode": {
        "name": "ipython",
        "version": 3
      },
      "file_extension": ".py",
      "mimetype": "text/x-python",
      "name": "python",
      "nbconvert_exporter": "python",
      "pygments_lexer": "ipython3",
      "version": "3.11.0"
    }
  },
  "nbformat": 4,
  "nbformat_minor": 0
}